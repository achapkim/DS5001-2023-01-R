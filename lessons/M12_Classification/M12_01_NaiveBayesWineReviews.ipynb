{
 "cells": [
  {
   "cell_type": "markdown",
   "metadata": {
    "colab_type": "text",
    "id": "hMvHK6QDmPy9",
    "slideshow": {
     "slide_type": "slide"
    },
    "tags": [],
    "toc-hr-collapsed": false
   },
   "source": [
    "# Metadata\n",
    "\n",
    "```yaml\n",
    "Course:    DS 5001\n",
    "Module:    12 Lab\n",
    "Topic:     Classification with Naive Bayes\n",
    "Author:    R.C. Alvarado\n",
    "Date:      16 April 2023 (revised)\n",
    "```\n",
    "\n",
    "**Purpose:** We attempt a Naive Bayes classifier for the sentiment of a corpus of wine reviews. We use the score of the review as our sentiment value, assuming that a bad review will have negative sentiment and a good review will have positive sentiment."
   ]
  },
  {
   "cell_type": "markdown",
   "metadata": {},
   "source": [
    "# Overview"
   ]
  },
  {
   "cell_type": "markdown",
   "metadata": {},
   "source": [
    "The prediction of the document's ($d$) label or class $c$ can be viewed as problem of conditional probability:\n",
    "* $p(c|d)$ ?\n",
    "* $p(c|d) = \\large\\frac{p(c)p(d|c)}{p(d)}$\n",
    "* $p(c|d) = p(c)p(d|c)$\n",
    "\n",
    "We use Maximum A Posteriori estimation (MAP) to predict the label:\n",
    "* $p(c|d) = \\underset{C}{\\mathrm{argmax}} p(c)p(d|c)$ \n",
    "\n",
    "To solve this, we need to estimate the values of the priors $p(c)$ and the likelihoods $p(d|c)$.\n",
    "* Prior: $p(c)$ the independent frequency of a given category.\n",
    "* Likelihood: $p(d|c)$ the frequency of the document for a given category. These are essentially unigram language models for each label. They are similar to topics in this sense.\n",
    "\n",
    "Note that $d$ is a sequence of words $w_{1}^{N}$, which means we apply the independence assumption to avoid the chain rule:\n",
    "* $p(d|c) = p(w_{1}^{N}|c) = p(w_{1}|c)p(w_{2},w_{1}|c) ... $\n",
    "* $p(d|c) = \\prod{p(w_{i}|c}) = \\sum{log(p(w_{i}|c))}$\n",
    "\n",
    "So, we get:\n",
    "* $p(c|d) = \\underset{C}{\\mathrm{argmax}} p(c)\\sum{log(p(w_{i}|c))}$ \n",
    "\n",
    "We can estimate the priors and the likelihoods using Maximum Likelihood Estimation (MLE) from data that gives the joint distribution of documents and labels, where documents are represented as bags of words. This joint distribution is just the TOKEN table with the label from the LIB table joined to it.\n",
    "* $(d,w,c)$\n"
   ]
  },
  {
   "cell_type": "markdown",
   "metadata": {
    "colab_type": "text",
    "id": "gEg4USFAmPzB",
    "slideshow": {
     "slide_type": "-"
    }
   },
   "source": [
    "# Set Up"
   ]
  },
  {
   "cell_type": "markdown",
   "metadata": {
    "colab_type": "text",
    "id": "gEg4USFAmPzB",
    "slideshow": {
     "slide_type": "-"
    }
   },
   "source": [
    "## Configure"
   ]
  },
  {
   "cell_type": "code",
   "execution_count": 1,
   "metadata": {
    "colab": {},
    "colab_type": "code",
    "id": "I2ZqwwztmPzD",
    "slideshow": {
     "slide_type": "slide"
    }
   },
   "outputs": [],
   "source": [
    "data_in = '../data'\n",
    "data_out = '../data'\n",
    "prefix = 'winereviews'"
   ]
  },
  {
   "cell_type": "markdown",
   "metadata": {
    "colab": {},
    "colab_type": "code",
    "id": "I2ZqwwztmPzD",
    "slideshow": {
     "slide_type": "slide"
    }
   },
   "source": [
    "**Set some parameters**\n",
    "\n",
    "We create an empty static class to store our parameters."
   ]
  },
  {
   "cell_type": "code",
   "execution_count": 2,
   "metadata": {},
   "outputs": [],
   "source": [
    "class Params:\n",
    "    qntile_P = .9\n",
    "    qntile_N = .1\n",
    "    n_sets = 4 # We want 4 so we can use 3 for training, 1 for testing.\n",
    "    smooth_alpha = .1\n",
    "    prior_method = 'docs' # 'tokens' or 'docs'    "
   ]
  },
  {
   "cell_type": "markdown",
   "metadata": {
    "colab_type": "text",
    "id": "a1evEJDGmPzN"
   },
   "source": [
    "## Import"
   ]
  },
  {
   "cell_type": "code",
   "execution_count": 3,
   "metadata": {
    "colab": {},
    "colab_type": "code",
    "id": "CSP6e43amPzP"
   },
   "outputs": [],
   "source": [
    "import pandas as pd\n",
    "import numpy as np\n",
    "from numpy import log2 as log\n",
    "from numpy import exp2 as exp\n",
    "from numpy.random import randint\n",
    "import lib.textman as tx"
   ]
  },
  {
   "cell_type": "markdown",
   "metadata": {
    "toc-hr-collapsed": false
   },
   "source": [
    "# Preparation"
   ]
  },
  {
   "cell_type": "markdown",
   "metadata": {},
   "source": [
    "## Import wine reviews"
   ]
  },
  {
   "cell_type": "code",
   "execution_count": 4,
   "metadata": {},
   "outputs": [],
   "source": [
    "docs = pd.read_csv(f'{data_in}/{prefix}/winereviews.csv', index_col='doc_id')"
   ]
  },
  {
   "cell_type": "code",
   "execution_count": 5,
   "metadata": {},
   "outputs": [
    {
     "data": {
      "text/html": [
       "<div>\n",
       "<style scoped>\n",
       "    .dataframe tbody tr th:only-of-type {\n",
       "        vertical-align: middle;\n",
       "    }\n",
       "\n",
       "    .dataframe tbody tr th {\n",
       "        vertical-align: top;\n",
       "    }\n",
       "\n",
       "    .dataframe thead th {\n",
       "        text-align: right;\n",
       "    }\n",
       "</style>\n",
       "<table border=\"1\" class=\"dataframe\">\n",
       "  <thead>\n",
       "    <tr style=\"text-align: right;\">\n",
       "      <th></th>\n",
       "      <th>doc_content</th>\n",
       "      <th>points</th>\n",
       "    </tr>\n",
       "    <tr>\n",
       "      <th>doc_id</th>\n",
       "      <th></th>\n",
       "      <th></th>\n",
       "    </tr>\n",
       "  </thead>\n",
       "  <tbody>\n",
       "    <tr>\n",
       "      <th>0</th>\n",
       "      <td>Aromas include tropical fruit, broom, brimston...</td>\n",
       "      <td>87</td>\n",
       "    </tr>\n",
       "    <tr>\n",
       "      <th>1</th>\n",
       "      <td>This is ripe and fruity, a wine that is smooth...</td>\n",
       "      <td>87</td>\n",
       "    </tr>\n",
       "    <tr>\n",
       "      <th>2</th>\n",
       "      <td>Tart and snappy, the flavors of lime flesh and...</td>\n",
       "      <td>87</td>\n",
       "    </tr>\n",
       "    <tr>\n",
       "      <th>3</th>\n",
       "      <td>Pineapple rind, lemon pith and orange blossom ...</td>\n",
       "      <td>87</td>\n",
       "    </tr>\n",
       "    <tr>\n",
       "      <th>4</th>\n",
       "      <td>Much like the regular bottling from 2012, this...</td>\n",
       "      <td>87</td>\n",
       "    </tr>\n",
       "  </tbody>\n",
       "</table>\n",
       "</div>"
      ],
      "text/plain": [
       "                                              doc_content  points\n",
       "doc_id                                                           \n",
       "0       Aromas include tropical fruit, broom, brimston...      87\n",
       "1       This is ripe and fruity, a wine that is smooth...      87\n",
       "2       Tart and snappy, the flavors of lime flesh and...      87\n",
       "3       Pineapple rind, lemon pith and orange blossom ...      87\n",
       "4       Much like the regular bottling from 2012, this...      87"
      ]
     },
     "execution_count": 5,
     "metadata": {},
     "output_type": "execute_result"
    }
   ],
   "source": [
    "docs.head()"
   ]
  },
  {
   "cell_type": "markdown",
   "metadata": {
    "toc-hr-collapsed": true
   },
   "source": [
    "## Convert points to labels"
   ]
  },
  {
   "cell_type": "markdown",
   "metadata": {
    "colab": {},
    "colab_type": "code",
    "id": "t12Rx04OmPz2"
   },
   "source": [
    "**Keep only reviews with high and low ratings**"
   ]
  },
  {
   "cell_type": "code",
   "execution_count": 6,
   "metadata": {
    "colab": {},
    "colab_type": "code",
    "id": "t12Rx04OmPz2"
   },
   "outputs": [],
   "source": [
    "bound_P = int(docs['points'].quantile(Params.qntile_P))\n",
    "bound_N = int(docs['points'].quantile(Params.qntile_N))\n",
    "docs = docs[(docs.points <= bound_N) | (docs.points >= bound_P)]"
   ]
  },
  {
   "cell_type": "code",
   "execution_count": 7,
   "metadata": {},
   "outputs": [
    {
     "data": {
      "text/plain": [
       "(84, 93)"
      ]
     },
     "execution_count": 7,
     "metadata": {},
     "output_type": "execute_result"
    }
   ],
   "source": [
    "bound_N, bound_P"
   ]
  },
  {
   "cell_type": "code",
   "execution_count": 8,
   "metadata": {
    "colab": {},
    "colab_type": "code",
    "id": "t12Rx04OmPz2"
   },
   "outputs": [
    {
     "data": {
      "text/html": [
       "<div>\n",
       "<style scoped>\n",
       "    .dataframe tbody tr th:only-of-type {\n",
       "        vertical-align: middle;\n",
       "    }\n",
       "\n",
       "    .dataframe tbody tr th {\n",
       "        vertical-align: top;\n",
       "    }\n",
       "\n",
       "    .dataframe thead th {\n",
       "        text-align: right;\n",
       "    }\n",
       "</style>\n",
       "<table border=\"1\" class=\"dataframe\">\n",
       "  <thead>\n",
       "    <tr style=\"text-align: right;\">\n",
       "      <th></th>\n",
       "      <th>doc_content</th>\n",
       "      <th>points</th>\n",
       "    </tr>\n",
       "    <tr>\n",
       "      <th>doc_id</th>\n",
       "      <th></th>\n",
       "      <th></th>\n",
       "    </tr>\n",
       "  </thead>\n",
       "  <tbody>\n",
       "    <tr>\n",
       "      <th>124893</th>\n",
       "      <td>Bold, ripe fruit flavors and full body give oo...</td>\n",
       "      <td>93</td>\n",
       "    </tr>\n",
       "    <tr>\n",
       "      <th>88048</th>\n",
       "      <td>White Merlot? Why not? It's actually a deep ro...</td>\n",
       "      <td>84</td>\n",
       "    </tr>\n",
       "    <tr>\n",
       "      <th>127183</th>\n",
       "      <td>Simple pear and apple work the largely nondesc...</td>\n",
       "      <td>83</td>\n",
       "    </tr>\n",
       "    <tr>\n",
       "      <th>125293</th>\n",
       "      <td>This impressive Brunello Riserva opens with an...</td>\n",
       "      <td>94</td>\n",
       "    </tr>\n",
       "    <tr>\n",
       "      <th>127166</th>\n",
       "      <td>This tastes sweet and simple, with flavors of ...</td>\n",
       "      <td>82</td>\n",
       "    </tr>\n",
       "  </tbody>\n",
       "</table>\n",
       "</div>"
      ],
      "text/plain": [
       "                                              doc_content  points\n",
       "doc_id                                                           \n",
       "124893  Bold, ripe fruit flavors and full body give oo...      93\n",
       "88048   White Merlot? Why not? It's actually a deep ro...      84\n",
       "127183  Simple pear and apple work the largely nondesc...      83\n",
       "125293  This impressive Brunello Riserva opens with an...      94\n",
       "127166  This tastes sweet and simple, with flavors of ...      82"
      ]
     },
     "execution_count": 8,
     "metadata": {},
     "output_type": "execute_result"
    }
   ],
   "source": [
    "docs.sample(5)"
   ]
  },
  {
   "cell_type": "markdown",
   "metadata": {
    "colab": {},
    "colab_type": "code",
    "id": "t12Rx04OmPz2"
   },
   "source": [
    "**Assign labels for high and low**"
   ]
  },
  {
   "cell_type": "code",
   "execution_count": 9,
   "metadata": {
    "colab": {},
    "colab_type": "code",
    "id": "ss1aG-HVmP0M"
   },
   "outputs": [],
   "source": [
    "docs.loc[docs['points'] >= 90, 'doc_label'] = 'P'\n",
    "docs.loc[docs['points'] < 90, 'doc_label'] = 'N'"
   ]
  },
  {
   "cell_type": "code",
   "execution_count": 10,
   "metadata": {
    "colab": {},
    "colab_type": "code",
    "id": "ss1aG-HVmP0M"
   },
   "outputs": [
    {
     "data": {
      "text/html": [
       "<div>\n",
       "<style scoped>\n",
       "    .dataframe tbody tr th:only-of-type {\n",
       "        vertical-align: middle;\n",
       "    }\n",
       "\n",
       "    .dataframe tbody tr th {\n",
       "        vertical-align: top;\n",
       "    }\n",
       "\n",
       "    .dataframe thead th {\n",
       "        text-align: right;\n",
       "    }\n",
       "</style>\n",
       "<table border=\"1\" class=\"dataframe\">\n",
       "  <thead>\n",
       "    <tr style=\"text-align: right;\">\n",
       "      <th></th>\n",
       "      <th>doc_content</th>\n",
       "      <th>points</th>\n",
       "      <th>doc_label</th>\n",
       "    </tr>\n",
       "    <tr>\n",
       "      <th>doc_id</th>\n",
       "      <th></th>\n",
       "      <th></th>\n",
       "      <th></th>\n",
       "    </tr>\n",
       "  </thead>\n",
       "  <tbody>\n",
       "    <tr>\n",
       "      <th>336</th>\n",
       "      <td>Gritty, heavily roasted aromas of peanuts and ...</td>\n",
       "      <td>83</td>\n",
       "      <td>N</td>\n",
       "    </tr>\n",
       "    <tr>\n",
       "      <th>337</th>\n",
       "      <td>An easy and inviting selection, there's a ment...</td>\n",
       "      <td>83</td>\n",
       "      <td>N</td>\n",
       "    </tr>\n",
       "    <tr>\n",
       "      <th>338</th>\n",
       "      <td>The wine is earthy and somewhat rustic. There ...</td>\n",
       "      <td>82</td>\n",
       "      <td>N</td>\n",
       "    </tr>\n",
       "    <tr>\n",
       "      <th>339</th>\n",
       "      <td>Red in color, with berry and apple aromas, thi...</td>\n",
       "      <td>82</td>\n",
       "      <td>N</td>\n",
       "    </tr>\n",
       "    <tr>\n",
       "      <th>340</th>\n",
       "      <td>The nose is muted, despite the slight spritz o...</td>\n",
       "      <td>82</td>\n",
       "      <td>N</td>\n",
       "    </tr>\n",
       "  </tbody>\n",
       "</table>\n",
       "</div>"
      ],
      "text/plain": [
       "                                              doc_content  points doc_label\n",
       "doc_id                                                                     \n",
       "336     Gritty, heavily roasted aromas of peanuts and ...      83         N\n",
       "337     An easy and inviting selection, there's a ment...      83         N\n",
       "338     The wine is earthy and somewhat rustic. There ...      82         N\n",
       "339     Red in color, with berry and apple aromas, thi...      82         N\n",
       "340     The nose is muted, despite the slight spritz o...      82         N"
      ]
     },
     "execution_count": 10,
     "metadata": {},
     "output_type": "execute_result"
    }
   ],
   "source": [
    "docs.head()"
   ]
  },
  {
   "cell_type": "markdown",
   "metadata": {},
   "source": [
    "**Drop points columns**"
   ]
  },
  {
   "cell_type": "code",
   "execution_count": 11,
   "metadata": {
    "colab": {},
    "colab_type": "code",
    "id": "ss1aG-HVmP0M"
   },
   "outputs": [],
   "source": [
    "try:\n",
    "    docs = docs.drop('points', axis=1)\n",
    "except KeyError as e:\n",
    "    if \"not found in axis\" in str(e):\n",
    "        pass\n",
    "    else:\n",
    "        print(e)"
   ]
  },
  {
   "cell_type": "code",
   "execution_count": 12,
   "metadata": {
    "colab": {},
    "colab_type": "code",
    "id": "ss1aG-HVmP0M"
   },
   "outputs": [
    {
     "data": {
      "text/html": [
       "<div>\n",
       "<style scoped>\n",
       "    .dataframe tbody tr th:only-of-type {\n",
       "        vertical-align: middle;\n",
       "    }\n",
       "\n",
       "    .dataframe tbody tr th {\n",
       "        vertical-align: top;\n",
       "    }\n",
       "\n",
       "    .dataframe thead th {\n",
       "        text-align: right;\n",
       "    }\n",
       "</style>\n",
       "<table border=\"1\" class=\"dataframe\">\n",
       "  <thead>\n",
       "    <tr style=\"text-align: right;\">\n",
       "      <th></th>\n",
       "      <th>doc_content</th>\n",
       "      <th>doc_label</th>\n",
       "    </tr>\n",
       "    <tr>\n",
       "      <th>doc_id</th>\n",
       "      <th></th>\n",
       "      <th></th>\n",
       "    </tr>\n",
       "  </thead>\n",
       "  <tbody>\n",
       "    <tr>\n",
       "      <th>336</th>\n",
       "      <td>Gritty, heavily roasted aromas of peanuts and ...</td>\n",
       "      <td>N</td>\n",
       "    </tr>\n",
       "    <tr>\n",
       "      <th>337</th>\n",
       "      <td>An easy and inviting selection, there's a ment...</td>\n",
       "      <td>N</td>\n",
       "    </tr>\n",
       "    <tr>\n",
       "      <th>338</th>\n",
       "      <td>The wine is earthy and somewhat rustic. There ...</td>\n",
       "      <td>N</td>\n",
       "    </tr>\n",
       "    <tr>\n",
       "      <th>339</th>\n",
       "      <td>Red in color, with berry and apple aromas, thi...</td>\n",
       "      <td>N</td>\n",
       "    </tr>\n",
       "    <tr>\n",
       "      <th>340</th>\n",
       "      <td>The nose is muted, despite the slight spritz o...</td>\n",
       "      <td>N</td>\n",
       "    </tr>\n",
       "  </tbody>\n",
       "</table>\n",
       "</div>"
      ],
      "text/plain": [
       "                                              doc_content doc_label\n",
       "doc_id                                                             \n",
       "336     Gritty, heavily roasted aromas of peanuts and ...         N\n",
       "337     An easy and inviting selection, there's a ment...         N\n",
       "338     The wine is earthy and somewhat rustic. There ...         N\n",
       "339     Red in color, with berry and apple aromas, thi...         N\n",
       "340     The nose is muted, despite the slight spritz o...         N"
      ]
     },
     "execution_count": 12,
     "metadata": {},
     "output_type": "execute_result"
    }
   ],
   "source": [
    "docs.head()"
   ]
  },
  {
   "cell_type": "markdown",
   "metadata": {},
   "source": [
    "## Divide docs into train and test sets\n",
    "\n",
    "Note: Packages like SciKit learn do this for you. Here we do it from scratch."
   ]
  },
  {
   "cell_type": "markdown",
   "metadata": {
    "colab": {},
    "colab_type": "code",
    "id": "Rh3_gYzmmP0Z"
   },
   "source": [
    "**Assign random numbers to docs**"
   ]
  },
  {
   "cell_type": "code",
   "execution_count": 13,
   "metadata": {
    "colab": {},
    "colab_type": "code",
    "id": "Rh3_gYzmmP0Z"
   },
   "outputs": [],
   "source": [
    "docs['set'] = randint(0, Params.n_sets, len(docs.index))"
   ]
  },
  {
   "cell_type": "code",
   "execution_count": 14,
   "metadata": {
    "colab": {},
    "colab_type": "code",
    "id": "Rh3_gYzmmP0Z"
   },
   "outputs": [
    {
     "data": {
      "text/html": [
       "<div>\n",
       "<style scoped>\n",
       "    .dataframe tbody tr th:only-of-type {\n",
       "        vertical-align: middle;\n",
       "    }\n",
       "\n",
       "    .dataframe tbody tr th {\n",
       "        vertical-align: top;\n",
       "    }\n",
       "\n",
       "    .dataframe thead th {\n",
       "        text-align: right;\n",
       "    }\n",
       "</style>\n",
       "<table border=\"1\" class=\"dataframe\">\n",
       "  <thead>\n",
       "    <tr style=\"text-align: right;\">\n",
       "      <th></th>\n",
       "      <th>doc_content</th>\n",
       "      <th>doc_label</th>\n",
       "      <th>set</th>\n",
       "    </tr>\n",
       "    <tr>\n",
       "      <th>doc_id</th>\n",
       "      <th></th>\n",
       "      <th></th>\n",
       "      <th></th>\n",
       "    </tr>\n",
       "  </thead>\n",
       "  <tbody>\n",
       "    <tr>\n",
       "      <th>336</th>\n",
       "      <td>Gritty, heavily roasted aromas of peanuts and ...</td>\n",
       "      <td>N</td>\n",
       "      <td>1</td>\n",
       "    </tr>\n",
       "    <tr>\n",
       "      <th>337</th>\n",
       "      <td>An easy and inviting selection, there's a ment...</td>\n",
       "      <td>N</td>\n",
       "      <td>1</td>\n",
       "    </tr>\n",
       "    <tr>\n",
       "      <th>338</th>\n",
       "      <td>The wine is earthy and somewhat rustic. There ...</td>\n",
       "      <td>N</td>\n",
       "      <td>3</td>\n",
       "    </tr>\n",
       "    <tr>\n",
       "      <th>339</th>\n",
       "      <td>Red in color, with berry and apple aromas, thi...</td>\n",
       "      <td>N</td>\n",
       "      <td>3</td>\n",
       "    </tr>\n",
       "    <tr>\n",
       "      <th>340</th>\n",
       "      <td>The nose is muted, despite the slight spritz o...</td>\n",
       "      <td>N</td>\n",
       "      <td>1</td>\n",
       "    </tr>\n",
       "  </tbody>\n",
       "</table>\n",
       "</div>"
      ],
      "text/plain": [
       "                                              doc_content doc_label  set\n",
       "doc_id                                                                  \n",
       "336     Gritty, heavily roasted aromas of peanuts and ...         N    1\n",
       "337     An easy and inviting selection, there's a ment...         N    1\n",
       "338     The wine is earthy and somewhat rustic. There ...         N    3\n",
       "339     Red in color, with berry and apple aromas, thi...         N    3\n",
       "340     The nose is muted, despite the slight spritz o...         N    1"
      ]
     },
     "execution_count": 14,
     "metadata": {},
     "output_type": "execute_result"
    }
   ],
   "source": [
    "docs.head()"
   ]
  },
  {
   "cell_type": "markdown",
   "metadata": {},
   "source": [
    "**Split docs by assigned number**"
   ]
  },
  {
   "cell_type": "code",
   "execution_count": 15,
   "metadata": {},
   "outputs": [],
   "source": [
    "training_docs = docs[docs.set != 0].copy()\n",
    "testing_docs = docs[docs.set == 0].copy()\n",
    "del(docs)"
   ]
  },
  {
   "cell_type": "markdown",
   "metadata": {},
   "source": [
    "Drop `set` columns."
   ]
  },
  {
   "cell_type": "code",
   "execution_count": 16,
   "metadata": {},
   "outputs": [],
   "source": [
    "try:\n",
    "    training_docs = training_docs.drop('set', axis=1)\n",
    "    testing_docs = testing_docs.drop('set', axis=1)\n",
    "except KeyError as e:\n",
    "    if \"not found in axis\" in str(e):\n",
    "        pass\n",
    "    else:\n",
    "        print(e)"
   ]
  },
  {
   "cell_type": "markdown",
   "metadata": {},
   "source": [
    "See ratio of set sizes."
   ]
  },
  {
   "cell_type": "code",
   "execution_count": 17,
   "metadata": {
    "scrolled": true
   },
   "outputs": [
    {
     "data": {
      "text/plain": [
       "2.98"
      ]
     },
     "execution_count": 17,
     "metadata": {},
     "output_type": "execute_result"
    }
   ],
   "source": [
    "round(len(training_docs) / len(testing_docs), 2)"
   ]
  },
  {
   "cell_type": "markdown",
   "metadata": {},
   "source": [
    "## Convert docs to tokens\n",
    "\n",
    "**Note that we only use the vocabulary of the training data.**"
   ]
  },
  {
   "cell_type": "code",
   "execution_count": 18,
   "metadata": {},
   "outputs": [],
   "source": [
    "training_tokens, vocab = tx.create_tokens_and_vocab(training_docs, src_col='doc_content')\n",
    "testing_tokens, _ = tx.create_tokens_and_vocab(testing_docs, src_col='doc_content')"
   ]
  },
  {
   "cell_type": "markdown",
   "metadata": {},
   "source": [
    "Clean up results. Remove `term_id` from tables; just use `term_str`.\\\n",
    "This is only need because we are using a legacy library to do our tokenization."
   ]
  },
  {
   "cell_type": "code",
   "execution_count": 19,
   "metadata": {},
   "outputs": [],
   "source": [
    "vocab = vocab[vocab.sw == False]"
   ]
  },
  {
   "cell_type": "code",
   "execution_count": 20,
   "metadata": {},
   "outputs": [],
   "source": [
    "try:\n",
    "    vocab = vocab.reset_index(drop=True).set_index('term_str')\n",
    "except KeyError as e:\n",
    "    if \"None of ['term_str'] are in the columns\" in str(e):\n",
    "        pass\n",
    "    else:\n",
    "        print(e)    "
   ]
  },
  {
   "cell_type": "code",
   "execution_count": 21,
   "metadata": {},
   "outputs": [],
   "source": [
    "try:\n",
    "    training_tokens = training_tokens.drop(['term_id','token'], axis=1)\n",
    "    testing_tokens = testing_tokens.drop(['term_id','token'], axis=1)\n",
    "except KeyError as e:\n",
    "    if \"not found in axis\" in str(e):\n",
    "        pass\n",
    "    else:\n",
    "        print(e)"
   ]
  },
  {
   "cell_type": "code",
   "execution_count": 22,
   "metadata": {},
   "outputs": [
    {
     "data": {
      "text/html": [
       "<div>\n",
       "<style scoped>\n",
       "    .dataframe tbody tr th:only-of-type {\n",
       "        vertical-align: middle;\n",
       "    }\n",
       "\n",
       "    .dataframe tbody tr th {\n",
       "        vertical-align: top;\n",
       "    }\n",
       "\n",
       "    .dataframe thead th {\n",
       "        text-align: right;\n",
       "    }\n",
       "</style>\n",
       "<table border=\"1\" class=\"dataframe\">\n",
       "  <thead>\n",
       "    <tr style=\"text-align: right;\">\n",
       "      <th></th>\n",
       "      <th></th>\n",
       "      <th></th>\n",
       "      <th>term_str</th>\n",
       "    </tr>\n",
       "    <tr>\n",
       "      <th>doc_id</th>\n",
       "      <th>sent_id</th>\n",
       "      <th>token_id</th>\n",
       "      <th></th>\n",
       "    </tr>\n",
       "  </thead>\n",
       "  <tbody>\n",
       "    <tr>\n",
       "      <th rowspan=\"5\" valign=\"top\">336</th>\n",
       "      <th rowspan=\"5\" valign=\"top\">0</th>\n",
       "      <th>0</th>\n",
       "      <td>gritty</td>\n",
       "    </tr>\n",
       "    <tr>\n",
       "      <th>1</th>\n",
       "      <td>heavily</td>\n",
       "    </tr>\n",
       "    <tr>\n",
       "      <th>2</th>\n",
       "      <td>roasted</td>\n",
       "    </tr>\n",
       "    <tr>\n",
       "      <th>3</th>\n",
       "      <td>aromas</td>\n",
       "    </tr>\n",
       "    <tr>\n",
       "      <th>5</th>\n",
       "      <td>peanuts</td>\n",
       "    </tr>\n",
       "  </tbody>\n",
       "</table>\n",
       "</div>"
      ],
      "text/plain": [
       "                        term_str\n",
       "doc_id sent_id token_id         \n",
       "336    0       0          gritty\n",
       "               1         heavily\n",
       "               2         roasted\n",
       "               3          aromas\n",
       "               5         peanuts"
      ]
     },
     "execution_count": 22,
     "metadata": {},
     "output_type": "execute_result"
    }
   ],
   "source": [
    "training_tokens.head()"
   ]
  },
  {
   "cell_type": "code",
   "execution_count": 23,
   "metadata": {},
   "outputs": [
    {
     "data": {
      "text/html": [
       "<div>\n",
       "<style scoped>\n",
       "    .dataframe tbody tr th:only-of-type {\n",
       "        vertical-align: middle;\n",
       "    }\n",
       "\n",
       "    .dataframe tbody tr th {\n",
       "        vertical-align: top;\n",
       "    }\n",
       "\n",
       "    .dataframe thead th {\n",
       "        text-align: right;\n",
       "    }\n",
       "</style>\n",
       "<table border=\"1\" class=\"dataframe\">\n",
       "  <thead>\n",
       "    <tr style=\"text-align: right;\">\n",
       "      <th></th>\n",
       "      <th></th>\n",
       "      <th></th>\n",
       "      <th>term_str</th>\n",
       "    </tr>\n",
       "    <tr>\n",
       "      <th>doc_id</th>\n",
       "      <th>sent_id</th>\n",
       "      <th>token_id</th>\n",
       "      <th></th>\n",
       "    </tr>\n",
       "  </thead>\n",
       "  <tbody>\n",
       "    <tr>\n",
       "      <th rowspan=\"5\" valign=\"top\">342</th>\n",
       "      <th rowspan=\"5\" valign=\"top\">0</th>\n",
       "      <th>0</th>\n",
       "      <td>funky</td>\n",
       "    </tr>\n",
       "    <tr>\n",
       "      <th>1</th>\n",
       "      <td>yeasty</td>\n",
       "    </tr>\n",
       "    <tr>\n",
       "      <th>2</th>\n",
       "      <td>aromas</td>\n",
       "    </tr>\n",
       "    <tr>\n",
       "      <th>4</th>\n",
       "      <td>cinnamon</td>\n",
       "    </tr>\n",
       "    <tr>\n",
       "      <th>5</th>\n",
       "      <td>spent</td>\n",
       "    </tr>\n",
       "  </tbody>\n",
       "</table>\n",
       "</div>"
      ],
      "text/plain": [
       "                         term_str\n",
       "doc_id sent_id token_id          \n",
       "342    0       0            funky\n",
       "               1           yeasty\n",
       "               2           aromas\n",
       "               4         cinnamon\n",
       "               5            spent"
      ]
     },
     "execution_count": 23,
     "metadata": {},
     "output_type": "execute_result"
    }
   ],
   "source": [
    "testing_tokens.head()"
   ]
  },
  {
   "cell_type": "markdown",
   "metadata": {},
   "source": [
    "## Convert tokens to bag-of-words"
   ]
  },
  {
   "cell_type": "code",
   "execution_count": 24,
   "metadata": {},
   "outputs": [],
   "source": [
    "training_bow = training_tokens.groupby(['doc_id', 'term_str']).term_str.count().to_frame('n')\n",
    "testing_bow = testing_tokens.groupby(['doc_id', 'term_str']).term_str.count().to_frame('n')"
   ]
  },
  {
   "cell_type": "code",
   "execution_count": 25,
   "metadata": {},
   "outputs": [
    {
     "data": {
      "text/html": [
       "<div>\n",
       "<style scoped>\n",
       "    .dataframe tbody tr th:only-of-type {\n",
       "        vertical-align: middle;\n",
       "    }\n",
       "\n",
       "    .dataframe tbody tr th {\n",
       "        vertical-align: top;\n",
       "    }\n",
       "\n",
       "    .dataframe thead th {\n",
       "        text-align: right;\n",
       "    }\n",
       "</style>\n",
       "<table border=\"1\" class=\"dataframe\">\n",
       "  <thead>\n",
       "    <tr style=\"text-align: right;\">\n",
       "      <th></th>\n",
       "      <th></th>\n",
       "      <th>n</th>\n",
       "    </tr>\n",
       "    <tr>\n",
       "      <th>doc_id</th>\n",
       "      <th>term_str</th>\n",
       "      <th></th>\n",
       "    </tr>\n",
       "  </thead>\n",
       "  <tbody>\n",
       "    <tr>\n",
       "      <th rowspan=\"5\" valign=\"top\">336</th>\n",
       "      <th>aromas</th>\n",
       "      <td>1</td>\n",
       "    </tr>\n",
       "    <tr>\n",
       "      <th>back</th>\n",
       "      <td>1</td>\n",
       "    </tr>\n",
       "    <tr>\n",
       "      <th>berry</th>\n",
       "      <td>1</td>\n",
       "    </tr>\n",
       "    <tr>\n",
       "      <th>better</th>\n",
       "      <td>1</td>\n",
       "    </tr>\n",
       "    <tr>\n",
       "      <th>briny</th>\n",
       "      <td>1</td>\n",
       "    </tr>\n",
       "  </tbody>\n",
       "</table>\n",
       "</div>"
      ],
      "text/plain": [
       "                 n\n",
       "doc_id term_str   \n",
       "336    aromas    1\n",
       "       back      1\n",
       "       berry     1\n",
       "       better    1\n",
       "       briny     1"
      ]
     },
     "execution_count": 25,
     "metadata": {},
     "output_type": "execute_result"
    }
   ],
   "source": [
    "training_bow.head()"
   ]
  },
  {
   "cell_type": "code",
   "execution_count": 26,
   "metadata": {},
   "outputs": [
    {
     "data": {
      "text/html": [
       "<div>\n",
       "<style scoped>\n",
       "    .dataframe tbody tr th:only-of-type {\n",
       "        vertical-align: middle;\n",
       "    }\n",
       "\n",
       "    .dataframe tbody tr th {\n",
       "        vertical-align: top;\n",
       "    }\n",
       "\n",
       "    .dataframe thead th {\n",
       "        text-align: right;\n",
       "    }\n",
       "</style>\n",
       "<table border=\"1\" class=\"dataframe\">\n",
       "  <thead>\n",
       "    <tr style=\"text-align: right;\">\n",
       "      <th></th>\n",
       "      <th></th>\n",
       "      <th>n</th>\n",
       "    </tr>\n",
       "    <tr>\n",
       "      <th>doc_id</th>\n",
       "      <th>term_str</th>\n",
       "      <th></th>\n",
       "    </tr>\n",
       "  </thead>\n",
       "  <tbody>\n",
       "    <tr>\n",
       "      <th rowspan=\"5\" valign=\"top\">342</th>\n",
       "      <th>apple</th>\n",
       "      <td>1</td>\n",
       "    </tr>\n",
       "    <tr>\n",
       "      <th>aromas</th>\n",
       "      <td>1</td>\n",
       "    </tr>\n",
       "    <tr>\n",
       "      <th>bread</th>\n",
       "      <td>1</td>\n",
       "    </tr>\n",
       "    <tr>\n",
       "      <th>briny</th>\n",
       "      <td>1</td>\n",
       "    </tr>\n",
       "    <tr>\n",
       "      <th>cinnamon</th>\n",
       "      <td>1</td>\n",
       "    </tr>\n",
       "  </tbody>\n",
       "</table>\n",
       "</div>"
      ],
      "text/plain": [
       "                 n\n",
       "doc_id term_str   \n",
       "342    apple     1\n",
       "       aromas    1\n",
       "       bread     1\n",
       "       briny     1\n",
       "       cinnamon  1"
      ]
     },
     "execution_count": 26,
     "metadata": {},
     "output_type": "execute_result"
    }
   ],
   "source": [
    "testing_bow.head()"
   ]
  },
  {
   "cell_type": "markdown",
   "metadata": {},
   "source": [
    "## Transfer DOC labels and splits to BOW &mdash; **CRUCIAL**\n",
    "\n",
    "We **propagate** the training doc labels to each of tokens in the docs.\n",
    "Each `term_str` will then have \"votes\" for being either `P` or `N`."
   ]
  },
  {
   "cell_type": "code",
   "execution_count": 27,
   "metadata": {},
   "outputs": [],
   "source": [
    "try:\n",
    "    training_bow = training_bow.join(training_docs[['doc_label']], on='doc_id', how='inner')\n",
    "    # training_tokens = training_tokens.join(training_docs[['doc_label']], on='doc_id', how='inner')\n",
    "except ValueError as e:\n",
    "    if 'columns overlap' in str(e):\n",
    "        pass\n",
    "    else:\n",
    "        print(e)"
   ]
  },
  {
   "cell_type": "code",
   "execution_count": 28,
   "metadata": {},
   "outputs": [],
   "source": [
    "# training_tokens.head()"
   ]
  },
  {
   "cell_type": "code",
   "execution_count": 29,
   "metadata": {
    "tags": []
   },
   "outputs": [
    {
     "data": {
      "text/html": [
       "<div>\n",
       "<style scoped>\n",
       "    .dataframe tbody tr th:only-of-type {\n",
       "        vertical-align: middle;\n",
       "    }\n",
       "\n",
       "    .dataframe tbody tr th {\n",
       "        vertical-align: top;\n",
       "    }\n",
       "\n",
       "    .dataframe thead th {\n",
       "        text-align: right;\n",
       "    }\n",
       "</style>\n",
       "<table border=\"1\" class=\"dataframe\">\n",
       "  <thead>\n",
       "    <tr style=\"text-align: right;\">\n",
       "      <th></th>\n",
       "      <th></th>\n",
       "      <th>n</th>\n",
       "      <th>doc_label</th>\n",
       "    </tr>\n",
       "    <tr>\n",
       "      <th>doc_id</th>\n",
       "      <th>term_str</th>\n",
       "      <th></th>\n",
       "      <th></th>\n",
       "    </tr>\n",
       "  </thead>\n",
       "  <tbody>\n",
       "    <tr>\n",
       "      <th rowspan=\"5\" valign=\"top\">336</th>\n",
       "      <th>aromas</th>\n",
       "      <td>1</td>\n",
       "      <td>N</td>\n",
       "    </tr>\n",
       "    <tr>\n",
       "      <th>back</th>\n",
       "      <td>1</td>\n",
       "      <td>N</td>\n",
       "    </tr>\n",
       "    <tr>\n",
       "      <th>berry</th>\n",
       "      <td>1</td>\n",
       "      <td>N</td>\n",
       "    </tr>\n",
       "    <tr>\n",
       "      <th>better</th>\n",
       "      <td>1</td>\n",
       "      <td>N</td>\n",
       "    </tr>\n",
       "    <tr>\n",
       "      <th>briny</th>\n",
       "      <td>1</td>\n",
       "      <td>N</td>\n",
       "    </tr>\n",
       "  </tbody>\n",
       "</table>\n",
       "</div>"
      ],
      "text/plain": [
       "                 n doc_label\n",
       "doc_id term_str             \n",
       "336    aromas    1         N\n",
       "       back      1         N\n",
       "       berry     1         N\n",
       "       better    1         N\n",
       "       briny     1         N"
      ]
     },
     "execution_count": 29,
     "metadata": {},
     "output_type": "execute_result"
    }
   ],
   "source": [
    "training_bow.head()"
   ]
  },
  {
   "cell_type": "markdown",
   "metadata": {},
   "source": [
    "# Training"
   ]
  },
  {
   "cell_type": "markdown",
   "metadata": {},
   "source": [
    "## Estimate class priors $p(c)$\n",
    "\n",
    "$$\n",
    "\\hat{P}(c) = \\dfrac{N_{c}}{N_{d}}\n",
    "$$"
   ]
  },
  {
   "cell_type": "code",
   "execution_count": 30,
   "metadata": {},
   "outputs": [],
   "source": [
    "# training_bow.groupby('term_str')[['n']].sum().join(vocab, rsuffix='r').query(\"n != nr\")"
   ]
  },
  {
   "cell_type": "code",
   "execution_count": 31,
   "metadata": {},
   "outputs": [],
   "source": [
    "if Params.prior_method == 'tokens':\n",
    "    class_priors = training_bow['doc_label'].value_counts(normalize=True)\n",
    "elif Params.prior_method == 'docs':\n",
    "    class_priors = training_docs['doc_label'].value_counts(normalize=True)"
   ]
  },
  {
   "cell_type": "code",
   "execution_count": 32,
   "metadata": {},
   "outputs": [
    {
     "name": "stdout",
     "output_type": "stream",
     "text": [
      "By docs\n"
     ]
    },
    {
     "data": {
      "text/plain": [
       "N    0.5\n",
       "P    0.5\n",
       "Name: doc_label, dtype: float64"
      ]
     },
     "execution_count": 32,
     "metadata": {},
     "output_type": "execute_result"
    }
   ],
   "source": [
    "print(\"By\", Params.prior_method)\n",
    "np.round(class_priors, 3)"
   ]
  },
  {
   "cell_type": "markdown",
   "metadata": {},
   "source": [
    "**Convert priors to logs**"
   ]
  },
  {
   "cell_type": "code",
   "execution_count": 33,
   "metadata": {},
   "outputs": [],
   "source": [
    "class_priors_log = log(class_priors)"
   ]
  },
  {
   "cell_type": "code",
   "execution_count": 34,
   "metadata": {},
   "outputs": [
    {
     "data": {
      "text/plain": [
       "N   -0.999206\n",
       "P   -1.000794\n",
       "Name: doc_label, dtype: float64"
      ]
     },
     "execution_count": 34,
     "metadata": {},
     "output_type": "execute_result"
    }
   ],
   "source": [
    "class_priors_log"
   ]
  },
  {
   "cell_type": "code",
   "execution_count": 35,
   "metadata": {},
   "outputs": [],
   "source": [
    "# np.round(class_priors_log)"
   ]
  },
  {
   "cell_type": "markdown",
   "metadata": {
    "toc-hr-collapsed": true
   },
   "source": [
    "**Estimate likelihoods $p(w|c)$**\n",
    "\n",
    "$$\n",
    "\\hat{P}(w_i|c) = \\dfrac{count(w_i,c)}{\\sum_{w \\in V} count(w,c)}\n",
    "$$\n",
    "\n",
    "$$\n",
    "\\hat{P}(w_i|c) = \\dfrac{count(w_i,c)+1}{\\sum_{w \\in V} (count(w,c)+1)} = \\dfrac{count(w_i,c)+1}{(\\sum_{w \\in V} count(w,c))+|V|} \n",
    "$$\n",
    "\n",
    "\n",
    "\n",
    "Now we compute the probability of a token given the label. This will in effect product two language models, one for each label. Key idea = **the likelihoods are language models** (see Pearl for interpretation of likelihoods)."
   ]
  },
  {
   "cell_type": "code",
   "execution_count": 36,
   "metadata": {},
   "outputs": [],
   "source": [
    "# training_tokens"
   ]
  },
  {
   "cell_type": "code",
   "execution_count": 37,
   "metadata": {},
   "outputs": [],
   "source": [
    "# class_likelihoods = training_tokens.groupby(['term_str', 'doc_label']).doc_label.count()\\\n",
    "#     .unstack(fill_value=0)"
   ]
  },
  {
   "cell_type": "markdown",
   "metadata": {},
   "source": [
    "Note that using the bow means we do not count multiple instances of a word in a doc."
   ]
  },
  {
   "cell_type": "code",
   "execution_count": 38,
   "metadata": {},
   "outputs": [],
   "source": [
    "class_counts = training_bow.groupby(['term_str', 'doc_label']).doc_label.count()\\\n",
    "    .unstack(fill_value=0)"
   ]
  },
  {
   "cell_type": "code",
   "execution_count": 39,
   "metadata": {},
   "outputs": [
    {
     "data": {
      "text/html": [
       "<div>\n",
       "<style scoped>\n",
       "    .dataframe tbody tr th:only-of-type {\n",
       "        vertical-align: middle;\n",
       "    }\n",
       "\n",
       "    .dataframe tbody tr th {\n",
       "        vertical-align: top;\n",
       "    }\n",
       "\n",
       "    .dataframe thead th {\n",
       "        text-align: right;\n",
       "    }\n",
       "</style>\n",
       "<table border=\"1\" class=\"dataframe\">\n",
       "  <thead>\n",
       "    <tr style=\"text-align: right;\">\n",
       "      <th>doc_label</th>\n",
       "      <th>N</th>\n",
       "      <th>P</th>\n",
       "    </tr>\n",
       "    <tr>\n",
       "      <th>term_str</th>\n",
       "      <th></th>\n",
       "      <th></th>\n",
       "    </tr>\n",
       "  </thead>\n",
       "  <tbody>\n",
       "    <tr>\n",
       "      <th>aaron</th>\n",
       "      <td>0</td>\n",
       "      <td>4</td>\n",
       "    </tr>\n",
       "    <tr>\n",
       "      <th>abbey</th>\n",
       "      <td>0</td>\n",
       "      <td>3</td>\n",
       "    </tr>\n",
       "    <tr>\n",
       "      <th>abbott</th>\n",
       "      <td>0</td>\n",
       "      <td>3</td>\n",
       "    </tr>\n",
       "    <tr>\n",
       "      <th>abbreviated</th>\n",
       "      <td>3</td>\n",
       "      <td>0</td>\n",
       "    </tr>\n",
       "    <tr>\n",
       "      <th>ability</th>\n",
       "      <td>1</td>\n",
       "      <td>30</td>\n",
       "    </tr>\n",
       "  </tbody>\n",
       "</table>\n",
       "</div>"
      ],
      "text/plain": [
       "doc_label    N   P\n",
       "term_str          \n",
       "aaron        0   4\n",
       "abbey        0   3\n",
       "abbott       0   3\n",
       "abbreviated  3   0\n",
       "ability      1  30"
      ]
     },
     "execution_count": 39,
     "metadata": {},
     "output_type": "execute_result"
    }
   ],
   "source": [
    "class_counts.head()"
   ]
  },
  {
   "cell_type": "code",
   "execution_count": 40,
   "metadata": {},
   "outputs": [],
   "source": [
    "class_counts_smoothed = class_counts + Params.smooth_alpha\n",
    "class_likelihoods = class_counts_smoothed  / class_counts_smoothed.sum()"
   ]
  },
  {
   "cell_type": "code",
   "execution_count": 41,
   "metadata": {},
   "outputs": [
    {
     "data": {
      "text/html": [
       "<style type=\"text/css\">\n",
       "#T_6c942_row0_col0 {\n",
       "  background-color: #f1faeb;\n",
       "  color: #000000;\n",
       "}\n",
       "#T_6c942_row0_col1 {\n",
       "  background-color: #eff9e9;\n",
       "  color: #000000;\n",
       "}\n",
       "#T_6c942_row1_col0, #T_6c942_row2_col0, #T_6c942_row3_col0, #T_6c942_row4_col0, #T_6c942_row4_col1, #T_6c942_row5_col0, #T_6c942_row6_col0, #T_6c942_row7_col0, #T_6c942_row7_col1, #T_6c942_row9_col0, #T_6c942_row9_col1 {\n",
       "  background-color: #f7fcf0;\n",
       "  color: #000000;\n",
       "}\n",
       "#T_6c942_row1_col1, #T_6c942_row3_col1, #T_6c942_row5_col1, #T_6c942_row6_col1 {\n",
       "  background-color: #f6fcef;\n",
       "  color: #000000;\n",
       "}\n",
       "#T_6c942_row2_col1 {\n",
       "  background-color: #f6fbef;\n",
       "  color: #000000;\n",
       "}\n",
       "#T_6c942_row8_col0 {\n",
       "  background-color: #084081;\n",
       "  color: #f1f1f1;\n",
       "}\n",
       "#T_6c942_row8_col1 {\n",
       "  background-color: #2081b8;\n",
       "  color: #f1f1f1;\n",
       "}\n",
       "</style>\n",
       "<table id=\"T_6c942\">\n",
       "  <thead>\n",
       "    <tr>\n",
       "      <th class=\"index_name level0\" >doc_label</th>\n",
       "      <th id=\"T_6c942_level0_col0\" class=\"col_heading level0 col0\" >N</th>\n",
       "      <th id=\"T_6c942_level0_col1\" class=\"col_heading level0 col1\" >P</th>\n",
       "    </tr>\n",
       "    <tr>\n",
       "      <th class=\"index_name level0\" >term_str</th>\n",
       "      <th class=\"blank col0\" >&nbsp;</th>\n",
       "      <th class=\"blank col1\" >&nbsp;</th>\n",
       "    </tr>\n",
       "  </thead>\n",
       "  <tbody>\n",
       "    <tr>\n",
       "      <th id=\"T_6c942_level0_row0\" class=\"row_heading level0 row0\" >enjoyable</th>\n",
       "      <td id=\"T_6c942_row0_col0\" class=\"data row0 col0\" >0.000147</td>\n",
       "      <td id=\"T_6c942_row0_col1\" class=\"data row0 col1\" >0.000196</td>\n",
       "    </tr>\n",
       "    <tr>\n",
       "      <th id=\"T_6c942_level0_row1\" class=\"row_heading level0 row1\" >essential</th>\n",
       "      <td id=\"T_6c942_row1_col0\" class=\"data row1 col0\" >0.000001</td>\n",
       "      <td id=\"T_6c942_row1_col1\" class=\"data row1 col1\" >0.000019</td>\n",
       "    </tr>\n",
       "    <tr>\n",
       "      <th id=\"T_6c942_level0_row2\" class=\"row_heading level0 row2\" >intriguingly</th>\n",
       "      <td id=\"T_6c942_row2_col0\" class=\"data row2 col0\" >0.000007</td>\n",
       "      <td id=\"T_6c942_row2_col1\" class=\"data row2 col1\" >0.000037</td>\n",
       "    </tr>\n",
       "    <tr>\n",
       "      <th id=\"T_6c942_level0_row3\" class=\"row_heading level0 row3\" >pudding</th>\n",
       "      <td id=\"T_6c942_row3_col0\" class=\"data row3 col0\" >0.000013</td>\n",
       "      <td id=\"T_6c942_row3_col1\" class=\"data row3 col1\" >0.000019</td>\n",
       "    </tr>\n",
       "    <tr>\n",
       "      <th id=\"T_6c942_level0_row4\" class=\"row_heading level0 row4\" >urban</th>\n",
       "      <td id=\"T_6c942_row4_col0\" class=\"data row4 col0\" >0.000013</td>\n",
       "      <td id=\"T_6c942_row4_col1\" class=\"data row4 col1\" >0.000008</td>\n",
       "    </tr>\n",
       "    <tr>\n",
       "      <th id=\"T_6c942_level0_row5\" class=\"row_heading level0 row5\" >standing</th>\n",
       "      <td id=\"T_6c942_row5_col0\" class=\"data row5 col0\" >0.000013</td>\n",
       "      <td id=\"T_6c942_row5_col1\" class=\"data row5 col1\" >0.000023</td>\n",
       "    </tr>\n",
       "    <tr>\n",
       "      <th id=\"T_6c942_level0_row6\" class=\"row_heading level0 row6\" >demonstrates</th>\n",
       "      <td id=\"T_6c942_row6_col0\" class=\"data row6 col0\" >0.000001</td>\n",
       "      <td id=\"T_6c942_row6_col1\" class=\"data row6 col1\" >0.000023</td>\n",
       "    </tr>\n",
       "    <tr>\n",
       "      <th id=\"T_6c942_level0_row7\" class=\"row_heading level0 row7\" >satisfaction</th>\n",
       "      <td id=\"T_6c942_row7_col0\" class=\"data row7 col0\" >0.000007</td>\n",
       "      <td id=\"T_6c942_row7_col1\" class=\"data row7 col1\" >0.000011</td>\n",
       "    </tr>\n",
       "    <tr>\n",
       "      <th id=\"T_6c942_level0_row8\" class=\"row_heading level0 row8\" >fresh</th>\n",
       "      <td id=\"T_6c942_row8_col0\" class=\"data row8 col0\" >0.004197</td>\n",
       "      <td id=\"T_6c942_row8_col1\" class=\"data row8 col1\" >0.003310</td>\n",
       "    </tr>\n",
       "    <tr>\n",
       "      <th id=\"T_6c942_level0_row9\" class=\"row_heading level0 row9\" >accessibility</th>\n",
       "      <td id=\"T_6c942_row9_col0\" class=\"data row9 col0\" >0.000001</td>\n",
       "      <td id=\"T_6c942_row9_col1\" class=\"data row9 col1\" >0.000011</td>\n",
       "    </tr>\n",
       "  </tbody>\n",
       "</table>\n"
      ],
      "text/plain": [
       "<pandas.io.formats.style.Styler at 0x7fbfba038f70>"
      ]
     },
     "execution_count": 41,
     "metadata": {},
     "output_type": "execute_result"
    }
   ],
   "source": [
    "class_likelihoods.sample(10).style.background_gradient(cmap='GnBu', axis=None)"
   ]
  },
  {
   "cell_type": "markdown",
   "metadata": {},
   "source": [
    "## Convert likelihoods to logs"
   ]
  },
  {
   "cell_type": "code",
   "execution_count": 42,
   "metadata": {},
   "outputs": [],
   "source": [
    "class_likelihoods_log = log(class_likelihoods)"
   ]
  },
  {
   "cell_type": "code",
   "execution_count": 43,
   "metadata": {},
   "outputs": [
    {
     "data": {
      "text/html": [
       "<style type=\"text/css\">\n",
       "#T_56a74_row0_col0, #T_56a74_row7_col0 {\n",
       "  background-color: #1c7cb6;\n",
       "  color: #f1f1f1;\n",
       "}\n",
       "#T_56a74_row0_col1, #T_56a74_row5_col1, #T_56a74_row9_col0 {\n",
       "  background-color: #f7fcf0;\n",
       "  color: #000000;\n",
       "}\n",
       "#T_56a74_row1_col0, #T_56a74_row2_col0, #T_56a74_row3_col0, #T_56a74_row5_col0 {\n",
       "  background-color: #2c8ebf;\n",
       "  color: #f1f1f1;\n",
       "}\n",
       "#T_56a74_row1_col1 {\n",
       "  background-color: #3da0c9;\n",
       "  color: #f1f1f1;\n",
       "}\n",
       "#T_56a74_row2_col1, #T_56a74_row3_col1, #T_56a74_row7_col1 {\n",
       "  background-color: #2788bc;\n",
       "  color: #f1f1f1;\n",
       "}\n",
       "#T_56a74_row4_col0, #T_56a74_row8_col0 {\n",
       "  background-color: #73c8c7;\n",
       "  color: #000000;\n",
       "}\n",
       "#T_56a74_row4_col1 {\n",
       "  background-color: #0864a8;\n",
       "  color: #f1f1f1;\n",
       "}\n",
       "#T_56a74_row6_col0, #T_56a74_row6_col1 {\n",
       "  background-color: #084081;\n",
       "  color: #f1f1f1;\n",
       "}\n",
       "#T_56a74_row8_col1 {\n",
       "  background-color: #3496c3;\n",
       "  color: #f1f1f1;\n",
       "}\n",
       "#T_56a74_row9_col1 {\n",
       "  background-color: #57b8d0;\n",
       "  color: #000000;\n",
       "}\n",
       "</style>\n",
       "<table id=\"T_56a74\">\n",
       "  <thead>\n",
       "    <tr>\n",
       "      <th class=\"index_name level0\" >doc_label</th>\n",
       "      <th id=\"T_56a74_level0_col0\" class=\"col_heading level0 col0\" >N</th>\n",
       "      <th id=\"T_56a74_level0_col1\" class=\"col_heading level0 col1\" >P</th>\n",
       "    </tr>\n",
       "    <tr>\n",
       "      <th class=\"index_name level0\" >term_str</th>\n",
       "      <th class=\"blank col0\" >&nbsp;</th>\n",
       "      <th class=\"blank col1\" >&nbsp;</th>\n",
       "    </tr>\n",
       "  </thead>\n",
       "  <tbody>\n",
       "    <tr>\n",
       "      <th id=\"T_56a74_level0_row0\" class=\"row_heading level0 row0\" >grillo</th>\n",
       "      <td id=\"T_56a74_row0_col0\" class=\"data row0 col0\" >-15.291581</td>\n",
       "      <td id=\"T_56a74_row0_col1\" class=\"data row0 col1\" >-21.366933</td>\n",
       "    </tr>\n",
       "    <tr>\n",
       "      <th id=\"T_56a74_level0_row1\" class=\"row_heading level0 row1\" >toughness</th>\n",
       "      <td id=\"T_56a74_row1_col0\" class=\"data row1 col0\" >-15.694937</td>\n",
       "      <td id=\"T_56a74_row1_col1\" class=\"data row1 col1\" >-15.694507</td>\n",
       "    </tr>\n",
       "    <tr>\n",
       "      <th id=\"T_56a74_level0_row2\" class=\"row_heading level0 row2\" >veneer</th>\n",
       "      <td id=\"T_56a74_row2_col0\" class=\"data row2 col0\" >-15.694937</td>\n",
       "      <td id=\"T_56a74_row2_col1\" class=\"data row2 col1\" >-15.027083</td>\n",
       "    </tr>\n",
       "    <tr>\n",
       "      <th id=\"T_56a74_level0_row3\" class=\"row_heading level0 row3\" >undrinkable</th>\n",
       "      <td id=\"T_56a74_row3_col0\" class=\"data row3 col0\" >-15.694937</td>\n",
       "      <td id=\"T_56a74_row3_col1\" class=\"data row3 col1\" >-15.027083</td>\n",
       "    </tr>\n",
       "    <tr>\n",
       "      <th id=\"T_56a74_level0_row4\" class=\"row_heading level0 row4\" >volcanic</th>\n",
       "      <td id=\"T_56a74_row4_col0\" class=\"data row4 col0\" >-17.189702</td>\n",
       "      <td id=\"T_56a74_row4_col1\" class=\"data row4 col1\" >-14.036016</td>\n",
       "    </tr>\n",
       "    <tr>\n",
       "      <th id=\"T_56a74_level0_row5\" class=\"row_heading level0 row5\" >catty</th>\n",
       "      <td id=\"T_56a74_row5_col0\" class=\"data row5 col0\" >-15.694937</td>\n",
       "      <td id=\"T_56a74_row5_col1\" class=\"data row5 col1\" >-21.366933</td>\n",
       "    </tr>\n",
       "    <tr>\n",
       "      <th id=\"T_56a74_level0_row6\" class=\"row_heading level0 row6\" >feral</th>\n",
       "      <td id=\"T_56a74_row6_col0\" class=\"data row6 col0\" >-13.990922</td>\n",
       "      <td id=\"T_56a74_row6_col1\" class=\"data row6 col1\" >-13.086162</td>\n",
       "    </tr>\n",
       "    <tr>\n",
       "      <th id=\"T_56a74_level0_row7\" class=\"row_heading level0 row7\" >wonder</th>\n",
       "      <td id=\"T_56a74_row7_col0\" class=\"data row7 col0\" >-15.291581</td>\n",
       "      <td id=\"T_56a74_row7_col1\" class=\"data row7 col1\" >-15.027083</td>\n",
       "    </tr>\n",
       "    <tr>\n",
       "      <th id=\"T_56a74_level0_row8\" class=\"row_heading level0 row8\" >newer</th>\n",
       "      <td id=\"T_56a74_row8_col0\" class=\"data row8 col0\" >-17.189702</td>\n",
       "      <td id=\"T_56a74_row8_col1\" class=\"data row8 col1\" >-15.436195</td>\n",
       "    </tr>\n",
       "    <tr>\n",
       "      <th id=\"T_56a74_level0_row9\" class=\"row_heading level0 row9\" >giuseppe</th>\n",
       "      <td id=\"T_56a74_row9_col0\" class=\"data row9 col0\" >-20.649133</td>\n",
       "      <td id=\"T_56a74_row9_col1\" class=\"data row9 col1\" >-16.412736</td>\n",
       "    </tr>\n",
       "  </tbody>\n",
       "</table>\n"
      ],
      "text/plain": [
       "<pandas.io.formats.style.Styler at 0x7fbfb9959400>"
      ]
     },
     "execution_count": 43,
     "metadata": {},
     "output_type": "execute_result"
    }
   ],
   "source": [
    "class_likelihoods_log.sample(10).style.background_gradient(cmap='GnBu')"
   ]
  },
  {
   "cell_type": "markdown",
   "metadata": {},
   "source": [
    "# Testing"
   ]
  },
  {
   "cell_type": "markdown",
   "metadata": {},
   "source": [
    "## Add likelihood columns to test tokens table\n",
    "\n",
    "This is effectively how we apply our model to the test set."
   ]
  },
  {
   "cell_type": "code",
   "execution_count": 44,
   "metadata": {},
   "outputs": [
    {
     "data": {
      "text/html": [
       "<div>\n",
       "<style scoped>\n",
       "    .dataframe tbody tr th:only-of-type {\n",
       "        vertical-align: middle;\n",
       "    }\n",
       "\n",
       "    .dataframe tbody tr th {\n",
       "        vertical-align: top;\n",
       "    }\n",
       "\n",
       "    .dataframe thead th {\n",
       "        text-align: right;\n",
       "    }\n",
       "</style>\n",
       "<table border=\"1\" class=\"dataframe\">\n",
       "  <thead>\n",
       "    <tr style=\"text-align: right;\">\n",
       "      <th></th>\n",
       "      <th></th>\n",
       "      <th></th>\n",
       "      <th>term_str</th>\n",
       "    </tr>\n",
       "    <tr>\n",
       "      <th>doc_id</th>\n",
       "      <th>sent_id</th>\n",
       "      <th>token_id</th>\n",
       "      <th></th>\n",
       "    </tr>\n",
       "  </thead>\n",
       "  <tbody>\n",
       "    <tr>\n",
       "      <th rowspan=\"5\" valign=\"top\">342</th>\n",
       "      <th rowspan=\"5\" valign=\"top\">0</th>\n",
       "      <th>0</th>\n",
       "      <td>funky</td>\n",
       "    </tr>\n",
       "    <tr>\n",
       "      <th>1</th>\n",
       "      <td>yeasty</td>\n",
       "    </tr>\n",
       "    <tr>\n",
       "      <th>2</th>\n",
       "      <td>aromas</td>\n",
       "    </tr>\n",
       "    <tr>\n",
       "      <th>4</th>\n",
       "      <td>cinnamon</td>\n",
       "    </tr>\n",
       "    <tr>\n",
       "      <th>5</th>\n",
       "      <td>spent</td>\n",
       "    </tr>\n",
       "  </tbody>\n",
       "</table>\n",
       "</div>"
      ],
      "text/plain": [
       "                         term_str\n",
       "doc_id sent_id token_id          \n",
       "342    0       0            funky\n",
       "               1           yeasty\n",
       "               2           aromas\n",
       "               4         cinnamon\n",
       "               5            spent"
      ]
     },
     "execution_count": 44,
     "metadata": {},
     "output_type": "execute_result"
    }
   ],
   "source": [
    "testing_tokens.head()"
   ]
  },
  {
   "cell_type": "code",
   "execution_count": 45,
   "metadata": {},
   "outputs": [],
   "source": [
    "try:\n",
    "    testing_tokens = testing_tokens\\\n",
    "        .join(class_likelihoods_log[['P','N']], on='term_str', how='inner')\n",
    "except ValueError as e:\n",
    "    if \"columns overlap\" in str(e):\n",
    "        pass\n",
    "    else:\n",
    "        print(e)"
   ]
  },
  {
   "cell_type": "code",
   "execution_count": 46,
   "metadata": {},
   "outputs": [
    {
     "data": {
      "text/html": [
       "<div>\n",
       "<style scoped>\n",
       "    .dataframe tbody tr th:only-of-type {\n",
       "        vertical-align: middle;\n",
       "    }\n",
       "\n",
       "    .dataframe tbody tr th {\n",
       "        vertical-align: top;\n",
       "    }\n",
       "\n",
       "    .dataframe thead th {\n",
       "        text-align: right;\n",
       "    }\n",
       "</style>\n",
       "<table border=\"1\" class=\"dataframe\">\n",
       "  <thead>\n",
       "    <tr style=\"text-align: right;\">\n",
       "      <th></th>\n",
       "      <th></th>\n",
       "      <th></th>\n",
       "      <th>term_str</th>\n",
       "      <th>P</th>\n",
       "      <th>N</th>\n",
       "    </tr>\n",
       "    <tr>\n",
       "      <th>doc_id</th>\n",
       "      <th>sent_id</th>\n",
       "      <th>token_id</th>\n",
       "      <th></th>\n",
       "      <th></th>\n",
       "      <th></th>\n",
       "    </tr>\n",
       "  </thead>\n",
       "  <tbody>\n",
       "    <tr>\n",
       "      <th>126957</th>\n",
       "      <th>0</th>\n",
       "      <th>1</th>\n",
       "      <td>dry</td>\n",
       "      <td>-8.095032</td>\n",
       "      <td>-7.040532</td>\n",
       "    </tr>\n",
       "    <tr>\n",
       "      <th>95531</th>\n",
       "      <th>0</th>\n",
       "      <th>27</th>\n",
       "      <td>leather</td>\n",
       "      <td>-8.823176</td>\n",
       "      <td>-9.986465</td>\n",
       "    </tr>\n",
       "    <tr>\n",
       "      <th>75951</th>\n",
       "      <th>1</th>\n",
       "      <th>7</th>\n",
       "      <td>concentrated</td>\n",
       "      <td>-7.996381</td>\n",
       "      <td>-11.966139</td>\n",
       "    </tr>\n",
       "    <tr>\n",
       "      <th>9795</th>\n",
       "      <th>0</th>\n",
       "      <th>19</th>\n",
       "      <td>texture</td>\n",
       "      <td>-7.923341</td>\n",
       "      <td>-8.321300</td>\n",
       "    </tr>\n",
       "    <tr>\n",
       "      <th>38716</th>\n",
       "      <th>1</th>\n",
       "      <th>2</th>\n",
       "      <td>tastes</td>\n",
       "      <td>-11.385365</td>\n",
       "      <td>-7.888206</td>\n",
       "    </tr>\n",
       "  </tbody>\n",
       "</table>\n",
       "</div>"
      ],
      "text/plain": [
       "                             term_str          P          N\n",
       "doc_id sent_id token_id                                    \n",
       "126957 0       1                  dry  -8.095032  -7.040532\n",
       "95531  0       27             leather  -8.823176  -9.986465\n",
       "75951  1       7         concentrated  -7.996381 -11.966139\n",
       "9795   0       19             texture  -7.923341  -8.321300\n",
       "38716  1       2               tastes -11.385365  -7.888206"
      ]
     },
     "execution_count": 46,
     "metadata": {},
     "output_type": "execute_result"
    }
   ],
   "source": [
    "testing_tokens.sample(5)"
   ]
  },
  {
   "cell_type": "markdown",
   "metadata": {},
   "source": [
    "## Compute posteriors $p(c|w)$\n",
    "\n",
    "$$\n",
    "c_{NB} = \\arg\\max \\log{P(c)} + \\sum_{id=1}^{id_{max}} \\log{P(token_{id}|c)}\n",
    "$$\n",
    "\n",
    "\n"
   ]
  },
  {
   "cell_type": "code",
   "execution_count": 47,
   "metadata": {},
   "outputs": [],
   "source": [
    "# testing_docs['prediction'] = testing_tokens.groupby('doc_id')\\\n",
    "#     .apply(lambda x: x[['P','N']].sum())\\\n",
    "#     .apply(lambda x: x + class_priors_log, axis=1)\\\n",
    "#     .idxmax(1)"
   ]
  },
  {
   "cell_type": "code",
   "execution_count": 48,
   "metadata": {},
   "outputs": [],
   "source": [
    "testing_docs['prediction'] = testing_tokens.groupby('doc_id')\\\n",
    "    .apply(lambda x: x[['P','N']].sum() + class_priors_log).idxmax(1)"
   ]
  },
  {
   "cell_type": "code",
   "execution_count": 49,
   "metadata": {},
   "outputs": [
    {
     "data": {
      "text/html": [
       "<div>\n",
       "<style scoped>\n",
       "    .dataframe tbody tr th:only-of-type {\n",
       "        vertical-align: middle;\n",
       "    }\n",
       "\n",
       "    .dataframe tbody tr th {\n",
       "        vertical-align: top;\n",
       "    }\n",
       "\n",
       "    .dataframe thead th {\n",
       "        text-align: right;\n",
       "    }\n",
       "</style>\n",
       "<table border=\"1\" class=\"dataframe\">\n",
       "  <thead>\n",
       "    <tr style=\"text-align: right;\">\n",
       "      <th></th>\n",
       "      <th>doc_content</th>\n",
       "      <th>doc_label</th>\n",
       "      <th>prediction</th>\n",
       "    </tr>\n",
       "    <tr>\n",
       "      <th>doc_id</th>\n",
       "      <th></th>\n",
       "      <th></th>\n",
       "      <th></th>\n",
       "    </tr>\n",
       "  </thead>\n",
       "  <tbody>\n",
       "    <tr>\n",
       "      <th>52795</th>\n",
       "      <td>From Passadouro's old vines, this is serious, ...</td>\n",
       "      <td>P</td>\n",
       "      <td>P</td>\n",
       "    </tr>\n",
       "    <tr>\n",
       "      <th>111251</th>\n",
       "      <td>Juicy red fruits are the veneer on a wine that...</td>\n",
       "      <td>P</td>\n",
       "      <td>P</td>\n",
       "    </tr>\n",
       "    <tr>\n",
       "      <th>74337</th>\n",
       "      <td>Light lemon and melon aromas lead the nose, bu...</td>\n",
       "      <td>N</td>\n",
       "      <td>N</td>\n",
       "    </tr>\n",
       "    <tr>\n",
       "      <th>107056</th>\n",
       "      <td>Candied blueberry and syrupy aromas jump from ...</td>\n",
       "      <td>N</td>\n",
       "      <td>N</td>\n",
       "    </tr>\n",
       "    <tr>\n",
       "      <th>7088</th>\n",
       "      <td>Smells raisiny-Porty, and turns dry and auster...</td>\n",
       "      <td>N</td>\n",
       "      <td>N</td>\n",
       "    </tr>\n",
       "    <tr>\n",
       "      <th>7084</th>\n",
       "      <td>This is light and seems a little sparkly, as i...</td>\n",
       "      <td>N</td>\n",
       "      <td>N</td>\n",
       "    </tr>\n",
       "    <tr>\n",
       "      <th>127157</th>\n",
       "      <td>Green, unripe vegetal notes se compromise this...</td>\n",
       "      <td>N</td>\n",
       "      <td>N</td>\n",
       "    </tr>\n",
       "    <tr>\n",
       "      <th>23981</th>\n",
       "      <td>This was the final vintage Patrick Campbell fu...</td>\n",
       "      <td>P</td>\n",
       "      <td>P</td>\n",
       "    </tr>\n",
       "    <tr>\n",
       "      <th>37365</th>\n",
       "      <td>Robust and full-bodied, as you'd expect from t...</td>\n",
       "      <td>P</td>\n",
       "      <td>P</td>\n",
       "    </tr>\n",
       "    <tr>\n",
       "      <th>64298</th>\n",
       "      <td>An unadulterated Chardonnay with a light-to-me...</td>\n",
       "      <td>N</td>\n",
       "      <td>N</td>\n",
       "    </tr>\n",
       "  </tbody>\n",
       "</table>\n",
       "</div>"
      ],
      "text/plain": [
       "                                              doc_content doc_label prediction\n",
       "doc_id                                                                        \n",
       "52795   From Passadouro's old vines, this is serious, ...         P          P\n",
       "111251  Juicy red fruits are the veneer on a wine that...         P          P\n",
       "74337   Light lemon and melon aromas lead the nose, bu...         N          N\n",
       "107056  Candied blueberry and syrupy aromas jump from ...         N          N\n",
       "7088    Smells raisiny-Porty, and turns dry and auster...         N          N\n",
       "7084    This is light and seems a little sparkly, as i...         N          N\n",
       "127157  Green, unripe vegetal notes se compromise this...         N          N\n",
       "23981   This was the final vintage Patrick Campbell fu...         P          P\n",
       "37365   Robust and full-bodied, as you'd expect from t...         P          P\n",
       "64298   An unadulterated Chardonnay with a light-to-me...         N          N"
      ]
     },
     "execution_count": 49,
     "metadata": {},
     "output_type": "execute_result"
    }
   ],
   "source": [
    "testing_docs.sample(10)"
   ]
  },
  {
   "cell_type": "markdown",
   "metadata": {
    "tags": []
   },
   "source": [
    "# Evaluation"
   ]
  },
  {
   "cell_type": "code",
   "execution_count": 50,
   "metadata": {},
   "outputs": [],
   "source": [
    "testing_docs['result'] = testing_docs.doc_label == testing_docs.prediction\n",
    "testing_docs['result_label'] = testing_docs.apply(lambda x: str(x.result)[0] + x.prediction, 1)"
   ]
  },
  {
   "cell_type": "code",
   "execution_count": 51,
   "metadata": {},
   "outputs": [
    {
     "data": {
      "text/html": [
       "<div>\n",
       "<style scoped>\n",
       "    .dataframe tbody tr th:only-of-type {\n",
       "        vertical-align: middle;\n",
       "    }\n",
       "\n",
       "    .dataframe tbody tr th {\n",
       "        vertical-align: top;\n",
       "    }\n",
       "\n",
       "    .dataframe thead th {\n",
       "        text-align: right;\n",
       "    }\n",
       "</style>\n",
       "<table border=\"1\" class=\"dataframe\">\n",
       "  <thead>\n",
       "    <tr style=\"text-align: right;\">\n",
       "      <th></th>\n",
       "      <th>doc_content</th>\n",
       "      <th>doc_label</th>\n",
       "      <th>prediction</th>\n",
       "      <th>result</th>\n",
       "      <th>result_label</th>\n",
       "    </tr>\n",
       "    <tr>\n",
       "      <th>doc_id</th>\n",
       "      <th></th>\n",
       "      <th></th>\n",
       "      <th></th>\n",
       "      <th></th>\n",
       "      <th></th>\n",
       "    </tr>\n",
       "  </thead>\n",
       "  <tbody>\n",
       "    <tr>\n",
       "      <th>88053</th>\n",
       "      <td>A light Chardonnnay showing  pineapple and pea...</td>\n",
       "      <td>N</td>\n",
       "      <td>N</td>\n",
       "      <td>True</td>\n",
       "      <td>TN</td>\n",
       "    </tr>\n",
       "    <tr>\n",
       "      <th>118062</th>\n",
       "      <td>The 2008 vintage presented challenges for Cabe...</td>\n",
       "      <td>P</td>\n",
       "      <td>P</td>\n",
       "      <td>True</td>\n",
       "      <td>TP</td>\n",
       "    </tr>\n",
       "    <tr>\n",
       "      <th>25954</th>\n",
       "      <td>Opening with a rich, luxurious nose, this wine...</td>\n",
       "      <td>P</td>\n",
       "      <td>P</td>\n",
       "      <td>True</td>\n",
       "      <td>TP</td>\n",
       "    </tr>\n",
       "    <tr>\n",
       "      <th>47520</th>\n",
       "      <td>This TBA features almost endless variations on...</td>\n",
       "      <td>P</td>\n",
       "      <td>P</td>\n",
       "      <td>True</td>\n",
       "      <td>TP</td>\n",
       "    </tr>\n",
       "    <tr>\n",
       "      <th>15208</th>\n",
       "      <td>A wine made like this doesn't come along every...</td>\n",
       "      <td>P</td>\n",
       "      <td>P</td>\n",
       "      <td>True</td>\n",
       "      <td>TP</td>\n",
       "    </tr>\n",
       "    <tr>\n",
       "      <th>6931</th>\n",
       "      <td>Hints of bramble and mint meld into fresh blac...</td>\n",
       "      <td>P</td>\n",
       "      <td>P</td>\n",
       "      <td>True</td>\n",
       "      <td>TP</td>\n",
       "    </tr>\n",
       "    <tr>\n",
       "      <th>127369</th>\n",
       "      <td>This is a devastatingly good Bordeaux blend fr...</td>\n",
       "      <td>P</td>\n",
       "      <td>P</td>\n",
       "      <td>True</td>\n",
       "      <td>TP</td>\n",
       "    </tr>\n",
       "    <tr>\n",
       "      <th>34327</th>\n",
       "      <td>A pale copper-pink color, this rosé is light a...</td>\n",
       "      <td>N</td>\n",
       "      <td>N</td>\n",
       "      <td>True</td>\n",
       "      <td>TN</td>\n",
       "    </tr>\n",
       "    <tr>\n",
       "      <th>31409</th>\n",
       "      <td>There's a pinpoint-like delicacy to this dazzl...</td>\n",
       "      <td>P</td>\n",
       "      <td>P</td>\n",
       "      <td>True</td>\n",
       "      <td>TP</td>\n",
       "    </tr>\n",
       "    <tr>\n",
       "      <th>110506</th>\n",
       "      <td>Pfersigberg, the hill of peach trees, is an ap...</td>\n",
       "      <td>P</td>\n",
       "      <td>P</td>\n",
       "      <td>True</td>\n",
       "      <td>TP</td>\n",
       "    </tr>\n",
       "  </tbody>\n",
       "</table>\n",
       "</div>"
      ],
      "text/plain": [
       "                                              doc_content doc_label  \\\n",
       "doc_id                                                                \n",
       "88053   A light Chardonnnay showing  pineapple and pea...         N   \n",
       "118062  The 2008 vintage presented challenges for Cabe...         P   \n",
       "25954   Opening with a rich, luxurious nose, this wine...         P   \n",
       "47520   This TBA features almost endless variations on...         P   \n",
       "15208   A wine made like this doesn't come along every...         P   \n",
       "6931    Hints of bramble and mint meld into fresh blac...         P   \n",
       "127369  This is a devastatingly good Bordeaux blend fr...         P   \n",
       "34327   A pale copper-pink color, this rosé is light a...         N   \n",
       "31409   There's a pinpoint-like delicacy to this dazzl...         P   \n",
       "110506  Pfersigberg, the hill of peach trees, is an ap...         P   \n",
       "\n",
       "       prediction  result result_label  \n",
       "doc_id                                  \n",
       "88053           N    True           TN  \n",
       "118062          P    True           TP  \n",
       "25954           P    True           TP  \n",
       "47520           P    True           TP  \n",
       "15208           P    True           TP  \n",
       "6931            P    True           TP  \n",
       "127369          P    True           TP  \n",
       "34327           N    True           TN  \n",
       "31409           P    True           TP  \n",
       "110506          P    True           TP  "
      ]
     },
     "execution_count": 51,
     "metadata": {},
     "output_type": "execute_result"
    }
   ],
   "source": [
    "testing_docs.sample(10)"
   ]
  },
  {
   "cell_type": "markdown",
   "metadata": {},
   "source": [
    "## Show raw T & F counts"
   ]
  },
  {
   "cell_type": "code",
   "execution_count": 52,
   "metadata": {},
   "outputs": [],
   "source": [
    "raw = testing_docs.result.value_counts()"
   ]
  },
  {
   "cell_type": "code",
   "execution_count": 53,
   "metadata": {},
   "outputs": [
    {
     "data": {
      "text/plain": [
       "True     5896\n",
       "False     206\n",
       "Name: result, dtype: int64"
      ]
     },
     "execution_count": 53,
     "metadata": {},
     "output_type": "execute_result"
    }
   ],
   "source": [
    "raw"
   ]
  },
  {
   "cell_type": "code",
   "execution_count": 54,
   "metadata": {},
   "outputs": [
    {
     "data": {
      "text/plain": [
       "28.62135922330097"
      ]
     },
     "execution_count": 54,
     "metadata": {},
     "output_type": "execute_result"
    }
   ],
   "source": [
    "raw[True] / raw[False]"
   ]
  },
  {
   "cell_type": "markdown",
   "metadata": {},
   "source": [
    "## Show raw TP, TN, FP, FN counts"
   ]
  },
  {
   "cell_type": "code",
   "execution_count": 55,
   "metadata": {},
   "outputs": [],
   "source": [
    "raw1 = testing_docs.result_label.value_counts()"
   ]
  },
  {
   "cell_type": "code",
   "execution_count": 56,
   "metadata": {},
   "outputs": [
    {
     "data": {
      "text/plain": [
       "TP    3048\n",
       "TN    2848\n",
       "FP     149\n",
       "FN      57\n",
       "Name: result_label, dtype: int64"
      ]
     },
     "execution_count": 56,
     "metadata": {},
     "output_type": "execute_result"
    }
   ],
   "source": [
    "raw1"
   ]
  },
  {
   "cell_type": "code",
   "execution_count": 57,
   "metadata": {},
   "outputs": [
    {
     "data": {
      "text/plain": [
       "0.9662405768600459"
      ]
     },
     "execution_count": 57,
     "metadata": {},
     "output_type": "execute_result"
    }
   ],
   "source": [
    "# Accuracy\n",
    "(raw1.TP + raw1.TN) / raw1.sum()"
   ]
  },
  {
   "cell_type": "markdown",
   "metadata": {},
   "source": [
    "## Create confusion matrix"
   ]
  },
  {
   "cell_type": "code",
   "execution_count": 58,
   "metadata": {},
   "outputs": [],
   "source": [
    "CM = testing_docs.reset_index().groupby(['prediction','doc_label']).doc_id.count().unstack().fillna(0)"
   ]
  },
  {
   "cell_type": "code",
   "execution_count": 59,
   "metadata": {},
   "outputs": [],
   "source": [
    "CM.columns.name = 'actual'"
   ]
  },
  {
   "cell_type": "code",
   "execution_count": 60,
   "metadata": {},
   "outputs": [
    {
     "data": {
      "text/html": [
       "<style type=\"text/css\">\n",
       "#T_58042_row0_col0 {\n",
       "  background-color: #034a74;\n",
       "  color: #f1f1f1;\n",
       "}\n",
       "#T_58042_row0_col1 {\n",
       "  background-color: #fff7fb;\n",
       "  color: #000000;\n",
       "}\n",
       "#T_58042_row1_col0 {\n",
       "  background-color: #fbf3f9;\n",
       "  color: #000000;\n",
       "}\n",
       "#T_58042_row1_col1 {\n",
       "  background-color: #023858;\n",
       "  color: #f1f1f1;\n",
       "}\n",
       "</style>\n",
       "<table id=\"T_58042\">\n",
       "  <thead>\n",
       "    <tr>\n",
       "      <th class=\"index_name level0\" >actual</th>\n",
       "      <th id=\"T_58042_level0_col0\" class=\"col_heading level0 col0\" >N</th>\n",
       "      <th id=\"T_58042_level0_col1\" class=\"col_heading level0 col1\" >P</th>\n",
       "    </tr>\n",
       "    <tr>\n",
       "      <th class=\"index_name level0\" >prediction</th>\n",
       "      <th class=\"blank col0\" >&nbsp;</th>\n",
       "      <th class=\"blank col1\" >&nbsp;</th>\n",
       "    </tr>\n",
       "  </thead>\n",
       "  <tbody>\n",
       "    <tr>\n",
       "      <th id=\"T_58042_level0_row0\" class=\"row_heading level0 row0\" >N</th>\n",
       "      <td id=\"T_58042_row0_col0\" class=\"data row0 col0\" >2848</td>\n",
       "      <td id=\"T_58042_row0_col1\" class=\"data row0 col1\" >57</td>\n",
       "    </tr>\n",
       "    <tr>\n",
       "      <th id=\"T_58042_level0_row1\" class=\"row_heading level0 row1\" >P</th>\n",
       "      <td id=\"T_58042_row1_col0\" class=\"data row1 col0\" >149</td>\n",
       "      <td id=\"T_58042_row1_col1\" class=\"data row1 col1\" >3048</td>\n",
       "    </tr>\n",
       "  </tbody>\n",
       "</table>\n"
      ],
      "text/plain": [
       "<pandas.io.formats.style.Styler at 0x7fbfc16a7e80>"
      ]
     },
     "execution_count": 60,
     "metadata": {},
     "output_type": "execute_result"
    }
   ],
   "source": [
    "CM.style.background_gradient(axis=None)"
   ]
  },
  {
   "cell_type": "code",
   "execution_count": 80,
   "metadata": {},
   "outputs": [],
   "source": [
    "def get_results(CM):\n",
    "\n",
    "    class Results():\n",
    "        \n",
    "        TP = CM.iloc[0,0] # hits\n",
    "        FP = CM.iloc[0,1] # Type I errors; false alarms\n",
    "        TN = CM.iloc[1,1] # correct rejections\n",
    "        FN = CM.iloc[1,0] # Type  II errors; misses\n",
    "        \n",
    "        T = TP + TN\n",
    "        F = FP + FN\n",
    "        ALL =  T + F\n",
    "        \n",
    "        ACC = T / ALL                       # Accuracy\n",
    "        TPR = TP / (TP + FN)                # Recall, Sensitivity\n",
    "        TNR = TN / (TN + FP)                # Specificity\n",
    "        PPV = TP / (TP + FP)                # Precision; Positive predictive value \n",
    "        BA = (TNR + TPR) / 2                # Balanced Accuracy\n",
    "        F1 = (2 *  TP) / (2 * TP + FP + FN) # F-score where F =  1\n",
    "\n",
    "        assert ALL == CM.sum().sum()\n",
    "                \n",
    "        def show_results(self):\n",
    "            print('TPR:', round(self.TPR, 2), '(sensitivity)')\n",
    "            print('TNR:', round(self.TNR, 2), '(specificity)')\n",
    "            print('F1: ', round(self.F1, 2), '<-- GRADE')\n",
    "            print('-'*9)\n",
    "            print('PPV:', round(self.PPV, 2),  '(precision)')\n",
    "            print('ACC:', round(self.ACC, 2), '(accuracy)')\n",
    "            \n",
    "    return Results()"
   ]
  },
  {
   "cell_type": "code",
   "execution_count": 81,
   "metadata": {},
   "outputs": [],
   "source": [
    "R = get_results(CM)"
   ]
  },
  {
   "cell_type": "code",
   "execution_count": 83,
   "metadata": {},
   "outputs": [
    {
     "name": "stdout",
     "output_type": "stream",
     "text": [
      "TPR: 0.95 (sensitivity)\n",
      "TNR: 0.98 (specificity)\n",
      "F1:  0.97 <-- GRADE\n",
      "---------\n",
      "PPV: 0.98 (precision)\n",
      "ACC: 0.97 (accuracy)\n"
     ]
    }
   ],
   "source": [
    "R.show_results()"
   ]
  },
  {
   "cell_type": "markdown",
   "metadata": {
    "toc-hr-collapsed": false
   },
   "source": [
    "# Exploration"
   ]
  },
  {
   "cell_type": "markdown",
   "metadata": {},
   "source": [
    "## Likelihoods as Sentiment Lexicon "
   ]
  },
  {
   "cell_type": "markdown",
   "metadata": {},
   "source": [
    "We make up a way to compute sentiment valence and polarity"
   ]
  },
  {
   "cell_type": "code",
   "execution_count": 84,
   "metadata": {},
   "outputs": [],
   "source": [
    "sentilex = (class_likelihoods_log.P - class_likelihoods_log.N).to_frame('valence')"
   ]
  },
  {
   "cell_type": "code",
   "execution_count": 85,
   "metadata": {},
   "outputs": [],
   "source": [
    "sentilex['polarity'] = np.sign(sentilex['valence'])"
   ]
  },
  {
   "cell_type": "markdown",
   "metadata": {
    "colab": {},
    "colab_type": "code",
    "id": "Hh3gYrVZ1Cas"
   },
   "source": [
    "**Ratio of positive to negative terms**"
   ]
  },
  {
   "cell_type": "code",
   "execution_count": 86,
   "metadata": {
    "colab": {},
    "colab_type": "code",
    "id": "Hh3gYrVZ1Cas"
   },
   "outputs": [
    {
     "data": {
      "image/png": "[encoded data removed]",
      "text/plain": [
       "<Figure size 640x480 with 1 Axes>"
      ]
     },
     "metadata": {},
     "output_type": "display_data"
    }
   ],
   "source": [
    "sentilex.polarity.value_counts().plot(kind='pie');"
   ]
  },
  {
   "cell_type": "markdown",
   "metadata": {
    "colab": {
     "base_uri": "https://localhost:8080/",
     "height": 381
    },
    "colab_type": "code",
    "executionInfo": {
     "elapsed": 453,
     "status": "ok",
     "timestamp": 1555682843465,
     "user": {
      "displayName": "Rafael Alvarado",
      "photoUrl": "https://lh3.googleusercontent.com/-gvKWs7zR4JY/AAAAAAAAAAI/AAAAAAABqfk/Q8O12g6M_T4/s64/photo.jpg",
      "userId": "11010075019714369526"
     },
     "user_tz": 240
    },
    "id": "DbsUOqAH5XVT",
    "outputId": "242afb34-a02a-413c-a52b-ddaa5f5509e5"
   },
   "source": [
    "## Top positive words"
   ]
  },
  {
   "cell_type": "code",
   "execution_count": 87,
   "metadata": {
    "colab": {
     "base_uri": "https://localhost:8080/",
     "height": 381
    },
    "colab_type": "code",
    "executionInfo": {
     "elapsed": 453,
     "status": "ok",
     "timestamp": 1555682843465,
     "user": {
      "displayName": "Rafael Alvarado",
      "photoUrl": "https://lh3.googleusercontent.com/-gvKWs7zR4JY/AAAAAAAAAAI/AAAAAAABqfk/Q8O12g6M_T4/s64/photo.jpg",
      "userId": "11010075019714369526"
     },
     "user_tz": 240
    },
    "id": "DbsUOqAH5XVT",
    "outputId": "242afb34-a02a-413c-a52b-ddaa5f5509e5"
   },
   "outputs": [
    {
     "data": {
      "text/html": [
       "<div>\n",
       "<style scoped>\n",
       "    .dataframe tbody tr th:only-of-type {\n",
       "        vertical-align: middle;\n",
       "    }\n",
       "\n",
       "    .dataframe tbody tr th {\n",
       "        vertical-align: top;\n",
       "    }\n",
       "\n",
       "    .dataframe thead th {\n",
       "        text-align: right;\n",
       "    }\n",
       "</style>\n",
       "<table border=\"1\" class=\"dataframe\">\n",
       "  <thead>\n",
       "    <tr style=\"text-align: right;\">\n",
       "      <th></th>\n",
       "      <th>valence</th>\n",
       "      <th>polarity</th>\n",
       "    </tr>\n",
       "    <tr>\n",
       "      <th>term_str</th>\n",
       "      <th></th>\n",
       "      <th></th>\n",
       "    </tr>\n",
       "  </thead>\n",
       "  <tbody>\n",
       "    <tr>\n",
       "      <th>superb</th>\n",
       "      <td>9.487994</td>\n",
       "      <td>1.0</td>\n",
       "    </tr>\n",
       "    <tr>\n",
       "      <th>pipe</th>\n",
       "      <td>9.360352</td>\n",
       "      <td>1.0</td>\n",
       "    </tr>\n",
       "    <tr>\n",
       "      <th>exceptional</th>\n",
       "      <td>9.205528</td>\n",
       "      <td>1.0</td>\n",
       "    </tr>\n",
       "    <tr>\n",
       "      <th>dramatic</th>\n",
       "      <td>8.776056</td>\n",
       "      <td>1.0</td>\n",
       "    </tr>\n",
       "    <tr>\n",
       "      <th>seamless</th>\n",
       "      <td>8.735471</td>\n",
       "      <td>1.0</td>\n",
       "    </tr>\n",
       "    <tr>\n",
       "      <th>premier</th>\n",
       "      <td>8.693712</td>\n",
       "      <td>1.0</td>\n",
       "    </tr>\n",
       "    <tr>\n",
       "      <th>parcel</th>\n",
       "      <td>8.693712</td>\n",
       "      <td>1.0</td>\n",
       "    </tr>\n",
       "    <tr>\n",
       "      <th>sites</th>\n",
       "      <td>8.650707</td>\n",
       "      <td>1.0</td>\n",
       "    </tr>\n",
       "    <tr>\n",
       "      <th>sagebrush</th>\n",
       "      <td>8.537229</td>\n",
       "      <td>1.0</td>\n",
       "    </tr>\n",
       "    <tr>\n",
       "      <th>exquisite</th>\n",
       "      <td>8.489215</td>\n",
       "      <td>1.0</td>\n",
       "    </tr>\n",
       "  </tbody>\n",
       "</table>\n",
       "</div>"
      ],
      "text/plain": [
       "              valence  polarity\n",
       "term_str                       \n",
       "superb       9.487994       1.0\n",
       "pipe         9.360352       1.0\n",
       "exceptional  9.205528       1.0\n",
       "dramatic     8.776056       1.0\n",
       "seamless     8.735471       1.0\n",
       "premier      8.693712       1.0\n",
       "parcel       8.693712       1.0\n",
       "sites        8.650707       1.0\n",
       "sagebrush    8.537229       1.0\n",
       "exquisite    8.489215       1.0"
      ]
     },
     "execution_count": 87,
     "metadata": {},
     "output_type": "execute_result"
    }
   ],
   "source": [
    "sentilex.sort_values('valence', ascending=False).head(10)"
   ]
  },
  {
   "cell_type": "markdown",
   "metadata": {
    "colab": {
     "base_uri": "https://localhost:8080/",
     "height": 381
    },
    "colab_type": "code",
    "executionInfo": {
     "elapsed": 403,
     "status": "ok",
     "timestamp": 1555682838113,
     "user": {
      "displayName": "Rafael Alvarado",
      "photoUrl": "https://lh3.googleusercontent.com/-gvKWs7zR4JY/AAAAAAAAAAI/AAAAAAABqfk/Q8O12g6M_T4/s64/photo.jpg",
      "userId": "11010075019714369526"
     },
     "user_tz": 240
    },
    "id": "y0qZIfrD7BYu",
    "outputId": "183f9da6-2970-40dc-f920-992c91998882"
   },
   "source": [
    "## Top negative words"
   ]
  },
  {
   "cell_type": "code",
   "execution_count": 88,
   "metadata": {
    "colab": {
     "base_uri": "https://localhost:8080/",
     "height": 381
    },
    "colab_type": "code",
    "executionInfo": {
     "elapsed": 403,
     "status": "ok",
     "timestamp": 1555682838113,
     "user": {
      "displayName": "Rafael Alvarado",
      "photoUrl": "https://lh3.googleusercontent.com/-gvKWs7zR4JY/AAAAAAAAAAI/AAAAAAABqfk/Q8O12g6M_T4/s64/photo.jpg",
      "userId": "11010075019714369526"
     },
     "user_tz": 240
    },
    "id": "y0qZIfrD7BYu",
    "outputId": "183f9da6-2970-40dc-f920-992c91998882"
   },
   "outputs": [
    {
     "data": {
      "text/html": [
       "<div>\n",
       "<style scoped>\n",
       "    .dataframe tbody tr th:only-of-type {\n",
       "        vertical-align: middle;\n",
       "    }\n",
       "\n",
       "    .dataframe tbody tr th {\n",
       "        vertical-align: top;\n",
       "    }\n",
       "\n",
       "    .dataframe thead th {\n",
       "        text-align: right;\n",
       "    }\n",
       "</style>\n",
       "<table border=\"1\" class=\"dataframe\">\n",
       "  <thead>\n",
       "    <tr style=\"text-align: right;\">\n",
       "      <th></th>\n",
       "      <th>valence</th>\n",
       "      <th>polarity</th>\n",
       "    </tr>\n",
       "    <tr>\n",
       "      <th>term_str</th>\n",
       "      <th></th>\n",
       "      <th></th>\n",
       "    </tr>\n",
       "  </thead>\n",
       "  <tbody>\n",
       "    <tr>\n",
       "      <th>everyday</th>\n",
       "      <td>-11.362557</td>\n",
       "      <td>-1.0</td>\n",
       "    </tr>\n",
       "    <tr>\n",
       "      <th>bland</th>\n",
       "      <td>-11.085214</td>\n",
       "      <td>-1.0</td>\n",
       "    </tr>\n",
       "    <tr>\n",
       "      <th>watery</th>\n",
       "      <td>-10.971647</td>\n",
       "      <td>-1.0</td>\n",
       "    </tr>\n",
       "    <tr>\n",
       "      <th>mealy</th>\n",
       "      <td>-10.611101</td>\n",
       "      <td>-1.0</td>\n",
       "    </tr>\n",
       "    <tr>\n",
       "      <th>dilute</th>\n",
       "      <td>-10.564857</td>\n",
       "      <td>-1.0</td>\n",
       "    </tr>\n",
       "    <tr>\n",
       "      <th>weedy</th>\n",
       "      <td>-10.564857</td>\n",
       "      <td>-1.0</td>\n",
       "    </tr>\n",
       "    <tr>\n",
       "      <th>pickled</th>\n",
       "      <td>-10.533183</td>\n",
       "      <td>-1.0</td>\n",
       "    </tr>\n",
       "    <tr>\n",
       "      <th>strange</th>\n",
       "      <td>-10.308386</td>\n",
       "      <td>-1.0</td>\n",
       "    </tr>\n",
       "    <tr>\n",
       "      <th>melony</th>\n",
       "      <td>-9.949020</td>\n",
       "      <td>-1.0</td>\n",
       "    </tr>\n",
       "    <tr>\n",
       "      <th>murky</th>\n",
       "      <td>-9.875146</td>\n",
       "      <td>-1.0</td>\n",
       "    </tr>\n",
       "  </tbody>\n",
       "</table>\n",
       "</div>"
      ],
      "text/plain": [
       "            valence  polarity\n",
       "term_str                     \n",
       "everyday -11.362557      -1.0\n",
       "bland    -11.085214      -1.0\n",
       "watery   -10.971647      -1.0\n",
       "mealy    -10.611101      -1.0\n",
       "dilute   -10.564857      -1.0\n",
       "weedy    -10.564857      -1.0\n",
       "pickled  -10.533183      -1.0\n",
       "strange  -10.308386      -1.0\n",
       "melony    -9.949020      -1.0\n",
       "murky     -9.875146      -1.0"
      ]
     },
     "execution_count": 88,
     "metadata": {},
     "output_type": "execute_result"
    }
   ],
   "source": [
    "sentilex.sort_values('valence', ascending=True).head(10)"
   ]
  },
  {
   "cell_type": "code",
   "execution_count": 69,
   "metadata": {
    "colab": {
     "base_uri": "https://localhost:8080/",
     "height": 381
    },
    "colab_type": "code",
    "executionInfo": {
     "elapsed": 403,
     "status": "ok",
     "timestamp": 1555682838113,
     "user": {
      "displayName": "Rafael Alvarado",
      "photoUrl": "https://lh3.googleusercontent.com/-gvKWs7zR4JY/AAAAAAAAAAI/AAAAAAABqfk/Q8O12g6M_T4/s64/photo.jpg",
      "userId": "11010075019714369526"
     },
     "user_tz": 240
    },
    "id": "y0qZIfrD7BYu",
    "outputId": "183f9da6-2970-40dc-f920-992c91998882"
   },
   "outputs": [
    {
     "data": {
      "image/png": "[encoded data removed]",
      "text/plain": [
       "<Figure size 500x1000 with 1 Axes>"
      ]
     },
     "metadata": {},
     "output_type": "display_data"
    }
   ],
   "source": [
    "wpos = sentilex.valence.sort_values().tail(10)\n",
    "wneg = sentilex.valence.sort_values().head(10)\n",
    "pd.concat([wneg,wpos]).plot.barh(figsize=(5,10));"
   ]
  },
  {
   "cell_type": "markdown",
   "metadata": {},
   "source": [
    "# Save"
   ]
  },
  {
   "cell_type": "code",
   "execution_count": 70,
   "metadata": {},
   "outputs": [],
   "source": [
    "sentilex .to_csv(f\"{data_out}/{prefix}/{prefix}-NB_SALEX.csv\", index=True)\n",
    "training_docs.to_csv(f\"{data_out}/{prefix}/{prefix}-DOCS_training.csv\", index=True)\n",
    "testing_docs.to_csv(f\"{data_out}/{prefix}/{prefix}-DOCS_testing.csv\", index=True)\n",
    "training_bow.to_csv(f\"{data_out}/{prefix}/{prefix}-BOW_training.csv\", index=True)\n",
    "testing_bow.to_csv(f\"{data_out}/{prefix}/{prefix}-BOW_testing.csv\", index=True)\n",
    "vocab.to_csv(f\"{data_out}/{prefix}/{prefix}-VOCAB.csv\", index=True)"
   ]
  },
  {
   "cell_type": "code",
   "execution_count": null,
   "metadata": {},
   "outputs": [],
   "source": []
  }
 ],
 "metadata": {
  "colab": {
   "collapsed_sections": [],
   "name": "DS5559_NaiveBayes_WineReviews.ipynb",
   "provenance": [],
   "toc_visible": true,
   "version": "0.3.2"
  },
  "hide_input": false,
  "kernelspec": {
   "display_name": "Python 3 (ipykernel)",
   "language": "python",
   "name": "python3"
  },
  "language_info": {
   "codemirror_mode": {
    "name": "ipython",
    "version": 3
   },
   "file_extension": ".py",
   "mimetype": "text/x-python",
   "name": "python",
   "nbconvert_exporter": "python",
   "pygments_lexer": "ipython3",
   "version": "3.8.16"
  },
  "latex_envs": {
   "LaTeX_envs_menu_present": true,
   "autoclose": true,
   "autocomplete": true,
   "bibliofile": "biblio.bib",
   "cite_by": "apalike",
   "current_citInitial": 1,
   "eqLabelWithNumbers": true,
   "eqNumInitial": 1,
   "hotkeys": {
    "equation": "Ctrl-E",
    "itemize": "Ctrl-I"
   },
   "labels_anchors": false,
   "latex_user_defs": false,
   "report_style_numbering": false,
   "user_envs_cfg": false
  },
  "toc": {
   "base_numbering": 1,
   "nav_menu": {},
   "number_sections": true,
   "sideBar": true,
   "skip_h1_title": true,
   "title_cell": "Table of Contents",
   "title_sidebar": "Contents",
   "toc_cell": false,
   "toc_position": {},
   "toc_section_display": true,
   "toc_window_display": true
  },
  "toc-autonumbering": false,
  "toc-showcode": false,
  "toc-showmarkdowntxt": false,
  "varInspector": {
   "cols": {
    "lenName": 16,
    "lenType": 16,
    "lenVar": 40
   },
   "kernels_config": {
    "python": {
     "delete_cmd_postfix": "",
     "delete_cmd_prefix": "del ",
     "library": "var_list.py",
     "varRefreshCmd": "print(var_dic_list())"
    },
    "r": {
     "delete_cmd_postfix": ") ",
     "delete_cmd_prefix": "rm(",
     "library": "var_list.r",
     "varRefreshCmd": "cat(var_dic_list()) "
    }
   },
   "position": {
    "height": "782.85px",
    "left": "699px",
    "right": "20px",
    "top": "19px",
    "width": "650px"
   },
   "types_to_exclude": [
    "module",
    "function",
    "builtin_function_or_method",
    "instance",
    "_Feature"
   ],
   "window_display": false
  },
  "widgets": {
   "application/vnd.jupyter.widget-state+json": {
    "state": {},
    "version_major": 2,
    "version_minor": 0
   }
  }
 },
 "nbformat": 4,
 "nbformat_minor": 4
}

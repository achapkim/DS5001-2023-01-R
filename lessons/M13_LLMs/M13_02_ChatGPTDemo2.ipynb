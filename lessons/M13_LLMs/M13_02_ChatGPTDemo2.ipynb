{
 "cells": [
  {
   "cell_type": "markdown",
   "id": "6d6275c0-c10d-4ac2-bdb7-4ff58c56d94b",
   "metadata": {},
   "source": [
    "# Metadata\n",
    "\n",
    "```yaml\n",
    "Course:    DS 5001\n",
    "Module:    13 LLMs\n",
    "Topic:     Demonstrate ChatGPT Plus with GPT-3.5\n",
    "Author:    R.C. Alvarado\n",
    "Date:      27 April 2023\n",
    "```"
   ]
  },
  {
   "cell_type": "markdown",
   "id": "3daffee5-cfc5-47a3-91a4-a93a040cd366",
   "metadata": {},
   "source": [
    "# Prompt 1\n",
    "\n",
    "Write a Python class that will scrape an arbitrary text from Project Gutenberg and convert the text into a Pandas dataframe of tokens with a multi-index that maps onto the text's structure, i.e. it's chapter, paragraph, sentence, and token numbers. Demonstrate with Jane Austen's Persuasion.\n",
    "\n",
    "> As an AI language model, I don't have the capability to access the internet or write files to your computer. However, I can give you the code for the Python class that can scrape an arbitrary text from Project Gutenberg and convert it into a Pandas dataframe of tokens with a multi-index that maps onto the text's structure, i.e., its chapter, paragraph, sentence, and token numbers. You can then use this class to scrape and process Jane Austen's Persuasion.\n",
    "\n",
    "> Here's the code for the class:\n",
    "\n"
   ]
  },
  {
   "cell_type": "code",
   "execution_count": 3,
   "id": "97e1a104-f95b-4950-b82b-191f3875a8b9",
   "metadata": {},
   "outputs": [],
   "source": [
    "import requests\n",
    "import pandas as pd\n",
    "from bs4 import BeautifulSoup\n",
    "\n",
    "class GutenbergScraper:\n",
    "    def __init__(self, url):\n",
    "        self.url = url\n",
    "        self.text = ''\n",
    "        self.structure = []\n",
    "        \n",
    "    def get_text(self):\n",
    "        response = requests.get(self.url)\n",
    "        soup = BeautifulSoup(response.content, 'html.parser')\n",
    "        self.text = soup.get_text()\n",
    "        \n",
    "    def get_structure(self):\n",
    "        if not self.text:\n",
    "            self.get_text()\n",
    "        lines = self.text.split('\\n')\n",
    "        for i, line in enumerate(lines):\n",
    "            if 'CHAPTER' in line:\n",
    "                self.structure.append(('Chapter', int(line.split(' ')[-1])))\n",
    "            elif line.startswith('  '):\n",
    "                if lines[i-1].startswith('   '):\n",
    "                    self.structure.append(('Sentence', None))\n",
    "                else:\n",
    "                    self.structure.append(('Paragraph', None))\n",
    "            else:\n",
    "                pass\n",
    "                \n",
    "    def tokenize(self):\n",
    "        if not self.structure:\n",
    "            self.get_structure()\n",
    "        tokens = self.text.split()\n",
    "        tokens_df = pd.DataFrame(tokens, columns=['Token'])\n",
    "        tokens_df['Chapter'] = 0\n",
    "        tokens_df['Paragraph'] = 0\n",
    "        tokens_df['Sentence'] = 0\n",
    "        tokens_df['Token Number'] = tokens_df.index\n",
    "        for i, (section, number) in enumerate(self.structure):\n",
    "            if section == 'Chapter':\n",
    "                tokens_df.loc[tokens_df.index >= i, 'Chapter'] = number\n",
    "            elif section == 'Paragraph':\n",
    "                tokens_df.loc[tokens_df.index >= i, 'Paragraph'] = i\n",
    "            elif section == 'Sentence':\n",
    "                tokens_df.loc[tokens_df.index >= i, 'Sentence'] = i\n",
    "        tokens_df.set_index(['Chapter', 'Paragraph', 'Sentence', 'Token Number'], inplace=True)\n",
    "        return tokens_df\n"
   ]
  },
  {
   "cell_type": "markdown",
   "id": "cb4b11bb-2980-4ca1-af7e-7c1065d58b0b",
   "metadata": {},
   "source": [
    "> To demonstrate how to use this class to scrape and process Jane Austen's Persuasion, you can do the following:"
   ]
  },
  {
   "cell_type": "code",
   "execution_count": 4,
   "id": "d8a73ac4-95d9-4da1-84c7-975e466fb50a",
   "metadata": {},
   "outputs": [
    {
     "ename": "ValueError",
     "evalue": "invalid literal for int() with base 10: 'I.\\r'",
     "output_type": "error",
     "traceback": [
      "\u001b[0;31m---------------------------------------------------------------------------\u001b[0m",
      "\u001b[0;31mValueError\u001b[0m                                Traceback (most recent call last)",
      "Cell \u001b[0;32mIn[4], line 3\u001b[0m\n\u001b[1;32m      1\u001b[0m url \u001b[38;5;241m=\u001b[39m \u001b[38;5;124m'\u001b[39m\u001b[38;5;124mhttp://www.gutenberg.org/files/105/105-0.txt\u001b[39m\u001b[38;5;124m'\u001b[39m\n\u001b[1;32m      2\u001b[0m scraper \u001b[38;5;241m=\u001b[39m GutenbergScraper(url)\n\u001b[0;32m----> 3\u001b[0m tokens_df \u001b[38;5;241m=\u001b[39m \u001b[43mscraper\u001b[49m\u001b[38;5;241;43m.\u001b[39;49m\u001b[43mtokenize\u001b[49m\u001b[43m(\u001b[49m\u001b[43m)\u001b[49m\n",
      "Cell \u001b[0;32mIn[3], line 33\u001b[0m, in \u001b[0;36mGutenbergScraper.tokenize\u001b[0;34m(self)\u001b[0m\n\u001b[1;32m     31\u001b[0m \u001b[38;5;28;01mdef\u001b[39;00m \u001b[38;5;21mtokenize\u001b[39m(\u001b[38;5;28mself\u001b[39m):\n\u001b[1;32m     32\u001b[0m     \u001b[38;5;28;01mif\u001b[39;00m \u001b[38;5;129;01mnot\u001b[39;00m \u001b[38;5;28mself\u001b[39m\u001b[38;5;241m.\u001b[39mstructure:\n\u001b[0;32m---> 33\u001b[0m         \u001b[38;5;28;43mself\u001b[39;49m\u001b[38;5;241;43m.\u001b[39;49m\u001b[43mget_structure\u001b[49m\u001b[43m(\u001b[49m\u001b[43m)\u001b[49m\n\u001b[1;32m     34\u001b[0m     tokens \u001b[38;5;241m=\u001b[39m \u001b[38;5;28mself\u001b[39m\u001b[38;5;241m.\u001b[39mtext\u001b[38;5;241m.\u001b[39msplit()\n\u001b[1;32m     35\u001b[0m     tokens_df \u001b[38;5;241m=\u001b[39m pd\u001b[38;5;241m.\u001b[39mDataFrame(tokens, columns\u001b[38;5;241m=\u001b[39m[\u001b[38;5;124m'\u001b[39m\u001b[38;5;124mToken\u001b[39m\u001b[38;5;124m'\u001b[39m])\n",
      "Cell \u001b[0;32mIn[3], line 22\u001b[0m, in \u001b[0;36mGutenbergScraper.get_structure\u001b[0;34m(self)\u001b[0m\n\u001b[1;32m     20\u001b[0m \u001b[38;5;28;01mfor\u001b[39;00m i, line \u001b[38;5;129;01min\u001b[39;00m \u001b[38;5;28menumerate\u001b[39m(lines):\n\u001b[1;32m     21\u001b[0m     \u001b[38;5;28;01mif\u001b[39;00m \u001b[38;5;124m'\u001b[39m\u001b[38;5;124mCHAPTER\u001b[39m\u001b[38;5;124m'\u001b[39m \u001b[38;5;129;01min\u001b[39;00m line:\n\u001b[0;32m---> 22\u001b[0m         \u001b[38;5;28mself\u001b[39m\u001b[38;5;241m.\u001b[39mstructure\u001b[38;5;241m.\u001b[39mappend((\u001b[38;5;124m'\u001b[39m\u001b[38;5;124mChapter\u001b[39m\u001b[38;5;124m'\u001b[39m, \u001b[38;5;28;43mint\u001b[39;49m\u001b[43m(\u001b[49m\u001b[43mline\u001b[49m\u001b[38;5;241;43m.\u001b[39;49m\u001b[43msplit\u001b[49m\u001b[43m(\u001b[49m\u001b[38;5;124;43m'\u001b[39;49m\u001b[38;5;124;43m \u001b[39;49m\u001b[38;5;124;43m'\u001b[39;49m\u001b[43m)\u001b[49m\u001b[43m[\u001b[49m\u001b[38;5;241;43m-\u001b[39;49m\u001b[38;5;241;43m1\u001b[39;49m\u001b[43m]\u001b[49m\u001b[43m)\u001b[49m))\n\u001b[1;32m     23\u001b[0m     \u001b[38;5;28;01melif\u001b[39;00m line\u001b[38;5;241m.\u001b[39mstartswith(\u001b[38;5;124m'\u001b[39m\u001b[38;5;124m  \u001b[39m\u001b[38;5;124m'\u001b[39m):\n\u001b[1;32m     24\u001b[0m         \u001b[38;5;28;01mif\u001b[39;00m lines[i\u001b[38;5;241m-\u001b[39m\u001b[38;5;241m1\u001b[39m]\u001b[38;5;241m.\u001b[39mstartswith(\u001b[38;5;124m'\u001b[39m\u001b[38;5;124m   \u001b[39m\u001b[38;5;124m'\u001b[39m):\n",
      "\u001b[0;31mValueError\u001b[0m: invalid literal for int() with base 10: 'I.\\r'"
     ]
    }
   ],
   "source": [
    "url = 'http://www.gutenberg.org/files/105/105-0.txt'\n",
    "scraper = GutenbergScraper(url)\n",
    "tokens_df = scraper.tokenize()"
   ]
  },
  {
   "cell_type": "markdown",
   "id": "f3776f8e-4501-4bc1-a881-ff1ffc9937c1",
   "metadata": {},
   "source": [
    "> This will create a Pandas dataframe with the tokens of the text, mapped onto its chapter, paragraph, sentence, and token numbers. You can then use this dataframe for further analysis or processing of the text."
   ]
  },
  {
   "cell_type": "markdown",
   "id": "f5e7353e-d464-480b-8fc5-f07612b5b5c2",
   "metadata": {},
   "source": [
    "# Prompt 2\n",
    "\n",
    "This code produces the error \"ValueError: invalid literal for int() with base 10: 'I.\\r'\". Can you fix that?\n",
    "\n",
    "> Certainly! The error is occurring because the int() function is trying to convert the string 'I.\\r' into an integer, which is not possible. To fix this error, we need to modify the get_structure() method to handle the case where the chapter number is not a valid integer.\n",
    "\n",
    "> Here's the updated code for the get_structure() method:"
   ]
  },
  {
   "cell_type": "code",
   "execution_count": 5,
   "id": "d0ed12a5-f218-4a36-96c9-71d0c91717b9",
   "metadata": {},
   "outputs": [],
   "source": [
    "def get_structure(self):\n",
    "    if not self.text:\n",
    "        self.get_text()\n",
    "    lines = self.text.split('\\n')\n",
    "    for i, line in enumerate(lines):\n",
    "        if 'CHAPTER' in line:\n",
    "            try:\n",
    "                chapter_number = int(line.split(' ')[-1])\n",
    "            except ValueError:\n",
    "                chapter_number = None\n",
    "            self.structure.append(('Chapter', chapter_number))\n",
    "        elif line.startswith('  '):\n",
    "            if lines[i-1].startswith('   '):\n",
    "                self.structure.append(('Sentence', None))\n",
    "            else:\n",
    "                self.structure.append(('Paragraph', None))\n",
    "        else:\n",
    "            pass"
   ]
  },
  {
   "cell_type": "markdown",
   "id": "e5c8184c-c6e0-4368-ad3f-94c4fb879087",
   "metadata": {},
   "source": [
    "> This code will now handle the case where the chapter number is not a valid integer by setting it to None. This should prevent the int() function from trying to convert invalid values into integers, and should eliminate the ValueError that you were seeing."
   ]
  },
  {
   "cell_type": "markdown",
   "id": "9c35bfef-7b63-4d03-a4c6-945287578194",
   "metadata": {},
   "source": [
    "# Prompt 3\n",
    "\n",
    "Can you rewrite the class with the new method please?\n",
    "\n",
    "> Sure, here's the updated code for the GutenbergScraper class that includes the modified get_structure() method:"
   ]
  },
  {
   "cell_type": "code",
   "execution_count": 6,
   "id": "99ab6d56-b03b-40c7-8f87-795715955275",
   "metadata": {},
   "outputs": [],
   "source": [
    "import requests\n",
    "import pandas as pd\n",
    "from bs4 import BeautifulSoup\n",
    "\n",
    "class GutenbergScraper:\n",
    "    def __init__(self, url):\n",
    "        self.url = url\n",
    "        self.text = ''\n",
    "        self.structure = []\n",
    "        \n",
    "    def get_text(self):\n",
    "        response = requests.get(self.url)\n",
    "        soup = BeautifulSoup(response.content, 'html.parser')\n",
    "        self.text = soup.get_text()\n",
    "        \n",
    "    def get_structure(self):\n",
    "        if not self.text:\n",
    "            self.get_text()\n",
    "        lines = self.text.split('\\n')\n",
    "        for i, line in enumerate(lines):\n",
    "            if 'CHAPTER' in line:\n",
    "                try:\n",
    "                    chapter_number = int(line.split(' ')[-1])\n",
    "                except ValueError:\n",
    "                    chapter_number = None\n",
    "                self.structure.append(('Chapter', chapter_number))\n",
    "            elif line.startswith('  '):\n",
    "                if lines[i-1].startswith('   '):\n",
    "                    self.structure.append(('Sentence', None))\n",
    "                else:\n",
    "                    self.structure.append(('Paragraph', None))\n",
    "            else:\n",
    "                pass\n",
    "                \n",
    "    def tokenize(self):\n",
    "        if not self.structure:\n",
    "            self.get_structure()\n",
    "        tokens = self.text.split()\n",
    "        tokens_df = pd.DataFrame(tokens, columns=['Token'])\n",
    "        tokens_df['Chapter'] = 0\n",
    "        tokens_df['Paragraph'] = 0\n",
    "        tokens_df['Sentence'] = 0\n",
    "        tokens_df['Token Number'] = tokens_df.index\n",
    "        for i, (section, number) in enumerate(self.structure):\n",
    "            if section == 'Chapter':\n",
    "                tokens_df.loc[tokens_df.index >= i, 'Chapter'] = number\n",
    "            elif section == 'Paragraph':\n",
    "                tokens_df.loc[tokens_df.index >= i, 'Paragraph'] = i\n",
    "            elif section == 'Sentence':\n",
    "                tokens_df.loc[tokens_df.index >= i, 'Sentence'] = i\n",
    "        tokens_df.set_index(['Chapter', 'Paragraph', 'Sentence', 'Token Number'], inplace=True)\n",
    "        return tokens_df"
   ]
  },
  {
   "cell_type": "markdown",
   "id": "00339419-b0c1-4a55-b8dd-2e790cc2122e",
   "metadata": {},
   "source": [
    "> This should eliminate the ValueError that was occurring and allow the class to correctly tokenize the text with its multi-index mapping."
   ]
  },
  {
   "cell_type": "markdown",
   "id": "d14c7a9b-ea5a-43b1-9590-a7d44ecb8390",
   "metadata": {},
   "source": [
    "Trying previously generated code block ..."
   ]
  },
  {
   "cell_type": "code",
   "execution_count": 8,
   "id": "50a7da2e-2d29-43a4-b1cb-b36f151d2a66",
   "metadata": {},
   "outputs": [],
   "source": [
    "url = 'http://www.gutenberg.org/files/105/105-0.txt'\n",
    "scraper = GutenbergScraper(url)\n",
    "tokens_df = scraper.tokenize()"
   ]
  },
  {
   "cell_type": "code",
   "execution_count": 13,
   "id": "05173273-8a60-450b-900f-e4a3280d8b47",
   "metadata": {},
   "outputs": [
    {
     "data": {
      "text/html": [
       "<div>\n",
       "<style scoped>\n",
       "    .dataframe tbody tr th:only-of-type {\n",
       "        vertical-align: middle;\n",
       "    }\n",
       "\n",
       "    .dataframe tbody tr th {\n",
       "        vertical-align: top;\n",
       "    }\n",
       "\n",
       "    .dataframe thead th {\n",
       "        text-align: right;\n",
       "    }\n",
       "</style>\n",
       "<table border=\"1\" class=\"dataframe\">\n",
       "  <thead>\n",
       "    <tr style=\"text-align: right;\">\n",
       "      <th></th>\n",
       "      <th></th>\n",
       "      <th></th>\n",
       "      <th></th>\n",
       "      <th>Token</th>\n",
       "    </tr>\n",
       "    <tr>\n",
       "      <th>Chapter</th>\n",
       "      <th>Paragraph</th>\n",
       "      <th>Sentence</th>\n",
       "      <th>Token Number</th>\n",
       "      <th></th>\n",
       "    </tr>\n",
       "  </thead>\n",
       "  <tbody>\n",
       "    <tr>\n",
       "      <th rowspan=\"11\" valign=\"top\">NaN</th>\n",
       "      <th rowspan=\"5\" valign=\"top\">0</th>\n",
       "      <th rowspan=\"5\" valign=\"top\">0</th>\n",
       "      <th>0</th>\n",
       "      <td>The</td>\n",
       "    </tr>\n",
       "    <tr>\n",
       "      <th>1</th>\n",
       "      <td>Project</td>\n",
       "    </tr>\n",
       "    <tr>\n",
       "      <th>2</th>\n",
       "      <td>Gutenberg</td>\n",
       "    </tr>\n",
       "    <tr>\n",
       "      <th>3</th>\n",
       "      <td>eBook</td>\n",
       "    </tr>\n",
       "    <tr>\n",
       "      <th>4</th>\n",
       "      <td>of</td>\n",
       "    </tr>\n",
       "    <tr>\n",
       "      <th>...</th>\n",
       "      <th>...</th>\n",
       "      <th>...</th>\n",
       "      <td>...</td>\n",
       "    </tr>\n",
       "    <tr>\n",
       "      <th rowspan=\"5\" valign=\"top\">75</th>\n",
       "      <th rowspan=\"5\" valign=\"top\">0</th>\n",
       "      <th>86360</th>\n",
       "      <td>to</td>\n",
       "    </tr>\n",
       "    <tr>\n",
       "      <th>86361</th>\n",
       "      <td>hear</td>\n",
       "    </tr>\n",
       "    <tr>\n",
       "      <th>86362</th>\n",
       "      <td>about</td>\n",
       "    </tr>\n",
       "    <tr>\n",
       "      <th>86363</th>\n",
       "      <td>new</td>\n",
       "    </tr>\n",
       "    <tr>\n",
       "      <th>86364</th>\n",
       "      <td>eBooks.</td>\n",
       "    </tr>\n",
       "  </tbody>\n",
       "</table>\n",
       "<p>86365 rows × 1 columns</p>\n",
       "</div>"
      ],
      "text/plain": [
       "                                             Token\n",
       "Chapter Paragraph Sentence Token Number           \n",
       "NaN     0         0        0                   The\n",
       "                           1               Project\n",
       "                           2             Gutenberg\n",
       "                           3                 eBook\n",
       "                           4                    of\n",
       "...                                            ...\n",
       "        75        0        86360                to\n",
       "                           86361              hear\n",
       "                           86362             about\n",
       "                           86363               new\n",
       "                           86364           eBooks.\n",
       "\n",
       "[86365 rows x 1 columns]"
      ]
     },
     "execution_count": 13,
     "metadata": {},
     "output_type": "execute_result"
    }
   ],
   "source": [
    "tokens_df"
   ]
  },
  {
   "cell_type": "markdown",
   "id": "d1317545-6eab-4afe-90e0-84dba55a422a",
   "metadata": {},
   "source": [
    "# Prompt 4\n",
    "\n",
    "Thank you! I ran the code and it produces a dataframe with null values in the chapter index column. Can you fix that?\n",
    "\n",
    "> Certainly! The issue you're seeing is most likely because the get_structure() method is not correctly identifying the chapter numbers. This can happen if the formatting of the text is not consistent throughout, which is often the case with Project Gutenberg texts.\n",
    "\n",
    "> To fix this issue, we can modify the get_structure() method to use a regular expression to identify the chapter headings. This should make it more robust and able to handle variations in formatting.\n",
    "\n",
    "> Here's the updated code for the get_structure() method:"
   ]
  },
  {
   "cell_type": "code",
   "execution_count": 14,
   "id": "f5f62778-4329-4135-8a76-f05015c86399",
   "metadata": {},
   "outputs": [],
   "source": [
    "import re\n",
    "\n",
    "def get_structure(self):\n",
    "    if not self.text:\n",
    "        self.get_text()\n",
    "    lines = self.text.split('\\n')\n",
    "    chapter_pattern = re.compile(r'^\\s*chapter\\s+\\d+\\s*$', re.IGNORECASE)\n",
    "    for i, line in enumerate(lines):\n",
    "        if chapter_pattern.match(line):\n",
    "            chapter_number = int(re.search(r'\\d+', line).group())\n",
    "            self.structure.append(('Chapter', chapter_number))\n",
    "        elif line.startswith('  '):\n",
    "            if lines[i-1].startswith('   '):\n",
    "                self.structure.append(('Sentence', None))\n",
    "            else:\n",
    "                self.structure.append(('Paragraph', None))\n",
    "        else:\n",
    "            pass"
   ]
  },
  {
   "cell_type": "markdown",
   "id": "474c67b4-2319-4af9-9187-7a07b0c934e2",
   "metadata": {},
   "source": [
    "> This code uses the re module to create a regular expression pattern that matches chapter headings. It then searches each line of the text for a match, and if it finds one, extracts the chapter number and adds it to the structure list.\n",
    "\n",
    "> With this modification, the get_structure() method should be able to correctly identify the chapter headings and create the multi-index mapping as expected.\n",
    "\n",
    "> Let me know if this solves the issue you were seeing!"
   ]
  },
  {
   "cell_type": "markdown",
   "id": "f1f40d60-7c67-4826-88aa-68fee1f7cfea",
   "metadata": {},
   "source": [
    "# Prompt 5\n",
    "\n",
    "Please refactor the class with the new method.\n",
    "\n",
    "> Sure, here's the refactored GutenbergScraper class that includes the updated get_structure() method:"
   ]
  },
  {
   "cell_type": "code",
   "execution_count": 18,
   "id": "b194ee9c-0aeb-4312-b2ce-624809aeec53",
   "metadata": {},
   "outputs": [],
   "source": [
    "import requests\n",
    "import pandas as pd\n",
    "from bs4 import BeautifulSoup\n",
    "import re\n",
    "\n",
    "class GutenbergScraper:\n",
    "    def __init__(self, url):\n",
    "        self.url = url\n",
    "        self.text = ''\n",
    "        self.structure = []\n",
    "        \n",
    "    def get_text(self):\n",
    "        response = requests.get(self.url)\n",
    "        soup = BeautifulSoup(response.content, 'html.parser')\n",
    "        self.text = soup.get_text()\n",
    "        \n",
    "    def get_structure(self):\n",
    "        if not self.text:\n",
    "            self.get_text()\n",
    "        lines = self.text.split('\\n')\n",
    "        chapter_pattern = re.compile(r'^\\s*chapter\\s+\\d+\\s*$', re.IGNORECASE)\n",
    "        for i, line in enumerate(lines):\n",
    "            if chapter_pattern.match(line):\n",
    "                chapter_number = int(re.search(r'\\d+', line).group())\n",
    "                self.structure.append(('Chapter', chapter_number))\n",
    "            elif line.startswith('  '):\n",
    "                if lines[i-1].startswith('   '):\n",
    "                    self.structure.append(('Sentence', None))\n",
    "                else:\n",
    "                    self.structure.append(('Paragraph', None))\n",
    "            else:\n",
    "                pass\n",
    "                \n",
    "    def tokenize(self):\n",
    "        if not self.structure:\n",
    "            self.get_structure()\n",
    "        tokens = self.text.split()\n",
    "        tokens_df = pd.DataFrame(tokens, columns=['Token'])\n",
    "        tokens_df['Chapter'] = None\n",
    "        tokens_df['Paragraph'] = 0\n",
    "        tokens_df['Sentence'] = 0\n",
    "        tokens_df['Token Number'] = tokens_df.index\n",
    "        for i, (section, number) in enumerate(self.structure):\n",
    "            if section == 'Chapter':\n",
    "                tokens_df.loc[tokens_df.index >= i, 'Chapter'] = number\n",
    "            elif section == 'Paragraph':\n",
    "                tokens_df.loc[tokens_df.index >= i, 'Paragraph'] = i\n",
    "            elif section == 'Sentence':\n",
    "                tokens_df.loc[tokens_df.index >= i, 'Sentence'] = i\n",
    "        tokens_df.set_index(['Chapter', 'Paragraph', 'Sentence', 'Token Number'], inplace=True)\n",
    "        return tokens_df"
   ]
  },
  {
   "cell_type": "markdown",
   "id": "e9e175d4-a4e4-4586-9a54-9191490eefd1",
   "metadata": {},
   "source": [
    "> Note that I also modified the tokenize() method to set the chapter index values to None instead of 0. This is because 0 is a valid integer value, and we need to use None to indicate missing values.\n",
    "\n",
    "> With these modifications, the class should be able to correctly tokenize Jane Austen's Persuasion with the multi-index mapping and without null values in the chapter index column."
   ]
  },
  {
   "cell_type": "markdown",
   "id": "0406d0fa-a671-444d-a0ce-996f69618ce8",
   "metadata": {},
   "source": [
    "Trying previously generated code block ..."
   ]
  },
  {
   "cell_type": "code",
   "execution_count": 19,
   "id": "234e9a17-2b23-4f52-859f-c6e1f3372d97",
   "metadata": {},
   "outputs": [],
   "source": [
    "url = 'http://www.gutenberg.org/files/105/105-0.txt'\n",
    "scraper = GutenbergScraper(url)\n",
    "tokens_df = scraper.tokenize()"
   ]
  },
  {
   "cell_type": "code",
   "execution_count": null,
   "id": "4b17eafe-dc50-4eb2-b56e-508eba3d80f9",
   "metadata": {},
   "outputs": [],
   "source": []
  }
 ],
 "metadata": {
  "kernelspec": {
   "display_name": "Python [conda env:eta]",
   "language": "python",
   "name": "conda-env-eta-py"
  },
  "language_info": {
   "codemirror_mode": {
    "name": "ipython",
    "version": 3
   },
   "file_extension": ".py",
   "mimetype": "text/x-python",
   "name": "python",
   "nbconvert_exporter": "python",
   "pygments_lexer": "ipython3",
   "version": "3.8.16"
  },
  "widgets": {
   "application/vnd.jupyter.widget-state+json": {
    "state": {},
    "version_major": 2,
    "version_minor": 0
   }
  }
 },
 "nbformat": 4,
 "nbformat_minor": 5
}
